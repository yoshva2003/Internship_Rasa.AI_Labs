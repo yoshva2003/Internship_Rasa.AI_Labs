{
 "cells": [
  {
   "cell_type": "markdown",
   "id": "671b7d06-9950-4995-aecb-fafe9e91070c",
   "metadata": {},
   "source": [
    "1.Fibonacci series"
   ]
  },
  {
   "cell_type": "code",
   "execution_count": 227,
   "id": "c3a5c33f-01a0-4d4c-bb29-6998e558f1d9",
   "metadata": {
    "scrolled": true
   },
   "outputs": [
    {
     "name": "stdout",
     "output_type": "stream",
     "text": [
      "1 1 2 3 5 8 13 21 34 55 \n"
     ]
    }
   ],
   "source": [
    "# numbers to generate\n",
    "n = 10  \n",
    "# Initialize the first two Fibonacci numbers\n",
    "a, b = 0, 1  \n",
    "# Loop to generate Fibonacci numbers up to nth terms\n",
    "for n in range(n):  \n",
    "    # Print the current Fibonacci number\n",
    "    print(b, end=\" \")     \n",
    "    # Update the values to generate the next term\n",
    "    a, b = b, a + b  \n",
    "print()"
   ]
  },
  {
   "cell_type": "markdown",
   "id": "913e3cab-7868-4c25-a571-0f49c128883b",
   "metadata": {},
   "source": [
    "2.checks if a given string or number is a palindrome"
   ]
  },
  {
   "cell_type": "code",
   "execution_count": 230,
   "id": "107152a6-3416-4950-a19a-f0eaf9a8084e",
   "metadata": {
    "scrolled": true
   },
   "outputs": [
    {
     "name": "stdout",
     "output_type": "stream",
     "text": [
      "True\n",
      "True\n"
     ]
    }
   ],
   "source": [
    "def is_palindrome(value):  # Convert input to string for uniform checking\n",
    "    return str(value) == str(value)[::-1]  # Compare with reversed version\n",
    "print(is_palindrome(\"radar\"))  # True\n",
    "print(is_palindrome(121))      # True"
   ]
  },
  {
   "cell_type": "code",
   "execution_count": 232,
   "id": "9185aec0-33f1-4c35-a885-e407d134b0ec",
   "metadata": {
    "scrolled": true
   },
   "outputs": [
    {
     "name": "stdout",
     "output_type": "stream",
     "text": [
      "Yes\n"
     ]
    }
   ],
   "source": [
    "s=\"malayalam\" # string\n",
    "if s==s[::-1]:\n",
    "    print(\"Yes\")\n",
    "else:\n",
    "    print(\"No\")"
   ]
  },
  {
   "cell_type": "markdown",
   "id": "f73064f6-013b-43d8-b3c4-197989f57c92",
   "metadata": {},
   "source": [
    "3.compute the factorial of a number using both recursion and iteration."
   ]
  },
  {
   "cell_type": "code",
   "execution_count": 237,
   "id": "cf694d6a-1e11-4b66-be76-eea4208578b8",
   "metadata": {
    "scrolled": true
   },
   "outputs": [
    {
     "name": "stdin",
     "output_type": "stream",
     "text": [
      "Enter a number:  7\n"
     ]
    },
    {
     "name": "stdout",
     "output_type": "stream",
     "text": [
      "Factorial using recursion:5040\n",
      "Factorial using iteration:5040\n"
     ]
    }
   ],
   "source": [
    "# Recursive function to compute factorial\n",
    "def factorial_recursive(n):return 1 if n==0 else n*factorial_recursive(n-1)\n",
    "\n",
    "# Take user input\n",
    "num=int(input(\"Enter a number: \"))\n",
    "\n",
    "# Iterative function to compute factorial\n",
    "def factorial_iterative(n):\n",
    "    result=1  # Initialize result to 1\n",
    "    for i in range(1,n+1):result*=i  # Multiply result by each number up to n\n",
    "    return result  # Return the computed factorial\n",
    "\n",
    "# Print the results using both approaches\n",
    "print(f\"Factorial using recursion:{factorial_recursive(num)}\")\n",
    "print(f\"Factorial using iteration:{factorial_iterative(num)}\")"
   ]
  },
  {
   "cell_type": "markdown",
   "id": "af523c83-12af-4a8b-8fbc-c3d841d5883a",
   "metadata": {},
   "source": [
    "4.check if a number is prime, and print all primes between 1 and 100"
   ]
  },
  {
   "cell_type": "code",
   "execution_count": 240,
   "id": "ea90857e-26c9-4b1d-80ab-8934cff4019e",
   "metadata": {},
   "outputs": [
    {
     "name": "stdin",
     "output_type": "stream",
     "text": [
      "Enter a number:  7\n"
     ]
    },
    {
     "name": "stdout",
     "output_type": "stream",
     "text": [
      "7 is a prime number.\n"
     ]
    }
   ],
   "source": [
    "num = int(input(\"Enter a number: \"))\n",
    "if num < 2:\n",
    "    print(f\"{num} is not a prime number.\")\n",
    "else:\n",
    "    is_prime = True\n",
    "    for i in range(2, num):\n",
    "        if num % i == 0:\n",
    "            is_prime = False\n",
    "            break\n",
    "\n",
    "    if is_prime:\n",
    "        print(f\"{num} is a prime number.\")\n",
    "    else:\n",
    "        print(f\"{num} is not a prime number.\")"
   ]
  },
  {
   "cell_type": "code",
   "execution_count": 244,
   "id": "25487b1c-3dc1-4a03-bcd1-71c0af963073",
   "metadata": {},
   "outputs": [
    {
     "name": "stdout",
     "output_type": "stream",
     "text": [
      "2 3 5 7 11 13 17 19 23 29 31 37 41 43 47 53 59 61 67 71 73 79 83 89 97 "
     ]
    }
   ],
   "source": [
    "for num in range(1, 101):\n",
    "    if num > 1:  # 1 is not a prime number\n",
    "        is_prime = True\n",
    "        for i in range(2, num):\n",
    "            if num % i == 0:\n",
    "                is_prime = False\n",
    "                break\n",
    "        if is_prime:\n",
    "            print(num, end=' ')"
   ]
  },
  {
   "cell_type": "markdown",
   "id": "71ee885d-a3c9-4b95-b546-d5de639ad48b",
   "metadata": {},
   "source": [
    "5.Find whether the number is amstrong or not"
   ]
  },
  {
   "cell_type": "code",
   "execution_count": 247,
   "id": "2b4c92ab-2002-4eee-b5d0-e816ed80b765",
   "metadata": {},
   "outputs": [
    {
     "name": "stdin",
     "output_type": "stream",
     "text": [
      "Enter a number:  78\n"
     ]
    },
    {
     "name": "stdout",
     "output_type": "stream",
     "text": [
      "78 is not an Armstrong number.\n"
     ]
    }
   ],
   "source": [
    "num = int(input(\"Enter a number: \"))\n",
    "# Convert number to string to get number of digits\n",
    "num_str = str(num)\n",
    "power = len(num_str)\n",
    "# Calculate the sum of each digit raised to the power\n",
    "total = sum(int(digit) ** power for digit in num_str)\n",
    "\n",
    "if total == num:\n",
    "    print(f\"{num} is an Armstrong number.\")\n",
    "else:\n",
    "    print(f\"{num} is not an Armstrong number.\")"
   ]
  },
  {
   "cell_type": "markdown",
   "id": "7fc80459-eb86-4650-affb-dba56a91c322",
   "metadata": {},
   "source": [
    "6.To reverse a number and also calculate the sum of its digits.}"
   ]
  },
  {
   "cell_type": "code",
   "execution_count": 250,
   "id": "6b1682a6-d734-4805-b80d-63659d5b48d8",
   "metadata": {},
   "outputs": [
    {
     "name": "stdin",
     "output_type": "stream",
     "text": [
      "Enter a number:  78\n"
     ]
    },
    {
     "name": "stdout",
     "output_type": "stream",
     "text": [
      "Reversed Number: 87\n",
      "Sum of Digits: 15\n"
     ]
    }
   ],
   "source": [
    "# Take input from the user and convert it to an integer\n",
    "num = int(input(\"Enter a number: \"))\n",
    "\n",
    "# Store the original number for display later\n",
    "original = num\n",
    "\n",
    "# Initialize variables for the reversed number and sum of digits\n",
    "reverse = 0\n",
    "digit_sum = 0\n",
    "\n",
    "# Loop until all digits are processed\n",
    "while num > 0:\n",
    "    digit = num % 10            # Get the last digit\n",
    "    reverse = reverse * 10 + digit  # Append digit to the reversed number\n",
    "    digit_sum += digit          # Add digit to the sum\n",
    "    num = num // 10             # Remove the last digit\n",
    "\n",
    "# Display the results\n",
    "print(f\"Reversed Number: {reverse}\")\n",
    "print(f\"Sum of Digits: {digit_sum}\")"
   ]
  },
  {
   "cell_type": "markdown",
   "id": "5e348d1e-f656-46c1-8754-4bf6315c84d0",
   "metadata": {},
   "source": [
    "7.To find the largest second number"
   ]
  },
  {
   "cell_type": "code",
   "execution_count": 253,
   "id": "35cb4f06-1719-4f47-a856-4de8c1b82522",
   "metadata": {},
   "outputs": [
    {
     "name": "stdout",
     "output_type": "stream",
     "text": [
      "Second Largest Number: 20\n"
     ]
    }
   ],
   "source": [
    "def second_largest(numbers):\n",
    "    numbers = list(set(numbers))  # Remove duplicates\n",
    "    numbers.sort()  # Sort the list in ascending order\n",
    "    return numbers[-2] if len(numbers) > 1 else None  # Get second largest value\n",
    "\n",
    "# Example usage\n",
    "numbers = [10,5, 8, 20, 30, 30]\n",
    "print(\"Second Largest Number:\", second_largest(numbers))"
   ]
  },
  {
   "cell_type": "markdown",
   "id": "65d3720a-c104-4cc6-8e78-5b527231aac9",
   "metadata": {},
   "source": [
    "8.To count the number of vowels and consonants in a given string."
   ]
  },
  {
   "cell_type": "code",
   "execution_count": 258,
   "id": "895859b1-c4ec-4105-a2cc-48c5b6060a01",
   "metadata": {},
   "outputs": [
    {
     "name": "stdin",
     "output_type": "stream",
     "text": [
      "Enter a string:  oik\n"
     ]
    },
    {
     "name": "stdout",
     "output_type": "stream",
     "text": [
      "Number of vowels: 2\n",
      "Number of consonants: 1\n"
     ]
    }
   ],
   "source": [
    "def count_vowels_consonants(s):\n",
    "    vowels = 'aeiouAEIOU'\n",
    "    vowel_count = 0\n",
    "    consonant_count = 0\n",
    "\n",
    "    for char in s:\n",
    "        if char.isalpha():  # Check if the character is a letter\n",
    "            if char in vowels:\n",
    "                vowel_count += 1\n",
    "            else:\n",
    "                consonant_count += 1\n",
    "\n",
    "    return vowel_count, consonant_count\n",
    "\n",
    "# Example usage:\n",
    "input_string = input(\"Enter a string: \")\n",
    "vowels, consonants = count_vowels_consonants(input_string)\n",
    "print(f\"Number of vowels: {vowels}\")\n",
    "print(f\"Number of consonants: {consonants}\")"
   ]
  },
  {
   "cell_type": "markdown",
   "id": "159035c3-0721-4630-a9be-bcb1dc57eac6",
   "metadata": {},
   "source": [
    " 9.Given a list of N-1 elements from a range 1 to N, find the missing number."
   ]
  },
  {
   "cell_type": "code",
   "execution_count": 260,
   "id": "97e3f1e0-6bc0-4bdc-bc01-ec5a00a0a2b4",
   "metadata": {},
   "outputs": [
    {
     "name": "stdout",
     "output_type": "stream",
     "text": [
      "The missing number is: 3\n"
     ]
    }
   ],
   "source": [
    "def find_missing_number(arr):\n",
    "    n = len(arr) + 1  # Since one number is missing\n",
    "    total_sum = n * (n + 1) // 2  # Sum of numbers from 1 to N\n",
    "    actual_sum = sum(arr)  # Sum of elements in the array\n",
    "    missing_number = total_sum - actual_sum  # The missing number\n",
    "    return missing_number\n",
    "\n",
    "# Example usage:\n",
    "arr = [1, 2, 4, 5, 6]  # Missing number is 3\n",
    "print(\"The missing number is:\", find_missing_number(arr))"
   ]
  },
  {
   "cell_type": "markdown",
   "id": "ff37c314-dae1-45ff-b7f9-9eb01fc07c60",
   "metadata": {},
   "source": [
    "10.Write a program to check if two strings are anagrams of each other."
   ]
  },
  {
   "cell_type": "code",
   "execution_count": 263,
   "id": "d3b0872c-c08c-4fb2-ab92-277a56b1dcb5",
   "metadata": {},
   "outputs": [
    {
     "name": "stdout",
     "output_type": "stream",
     "text": [
      "'Listen' and 'Silent' are anagrams.\n"
     ]
    }
   ],
   "source": [
    "def are_anagrams(str1, str2):\n",
    "    # Remove spaces and convert to lowercase for case-insensitive comparison\n",
    "    str1 = str1.replace(\" \", \"\").lower()\n",
    "    str2 = str2.replace(\" \", \"\").lower()\n",
    "\n",
    "    # Compare sorted versions of the strings\n",
    "    return sorted(str1) == sorted(str2)\n",
    "\n",
    "# Example usage:\n",
    "s1 = \"Listen\"\n",
    "s2 = \"Silent\"\n",
    "\n",
    "if are_anagrams(s1, s2):\n",
    "    print(f\"'{s1}' and '{s2}' are anagrams.\")\n",
    "else:\n",
    "    print(f\"'{s1}' and '{s2}' are not anagrams.\")"
   ]
  },
  {
   "cell_type": "code",
   "execution_count": null,
   "id": "d0076a95-616b-43af-bc80-872a1985ffd0",
   "metadata": {},
   "outputs": [],
   "source": []
  }
 ],
 "metadata": {
  "kernelspec": {
   "display_name": "Python 3 (ipykernel)",
   "language": "python",
   "name": "python3"
  },
  "language_info": {
   "codemirror_mode": {
    "name": "ipython",
    "version": 3
   },
   "file_extension": ".py",
   "mimetype": "text/x-python",
   "name": "python",
   "nbconvert_exporter": "python",
   "pygments_lexer": "ipython3",
   "version": "3.12.7"
  }
 },
 "nbformat": 4,
 "nbformat_minor": 5
}
