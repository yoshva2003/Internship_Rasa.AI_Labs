{
 "cells": [
  {
   "cell_type": "code",
   "execution_count": 1,
   "id": "4919bdff-e78e-41f7-a537-66e0e92ef1b0",
   "metadata": {},
   "outputs": [],
   "source": [
    "import pandas as pd"
   ]
  },
  {
   "cell_type": "code",
   "execution_count": 9,
   "id": "1c958db6-51dd-4f73-8818-2d4ccae0845b",
   "metadata": {},
   "outputs": [
    {
     "name": "stdout",
     "output_type": "stream",
     "text": [
      "            Player  Age  Team          Role  Runs  Price (Cr)\n",
      "0      Virat Kohli   34   RCB       Batsman  6000          15\n",
      "1         MS Dhoni   42   CSK  Wicketkeeper  5000          12\n",
      "2     Shubman Gill   24    GT       Batsman  3000           8\n",
      "3     Rohit Sharma   36    MI       Batsman  5000          13\n",
      "4    Hardik Pandya   29    MI   All-rounder  2500          11\n",
      "5         KL Rahul   31  PBKS       Batsman  4800          10\n",
      "6    Andre Russell   35   KKR   All-rounder  2800           9\n",
      "7       Ben Stokes   33    RR   All-rounder  3100          14\n",
      "8     David Warner   37    DC       Batsman  6000          16\n",
      "9   Jonny Bairstow   33  PBKS  Wicketkeeper  3700           7\n",
      "10    Ishan Kishan   25    MI  Wicketkeeper  3500           6\n",
      "11    Suresh Raina   38   CSK       Batsman  4500           5\n",
      "12    Shreyas Iyer   28   KKR       Batsman  4100           9\n",
      "13    Jofra Archer   28    MI        Bowler  1500           6\n",
      "14    Sunil Narine   35   KKR        Bowler  1100           5\n"
     ]
    }
   ],
   "source": [
    "data=pd.read_csv(\"ipl.csv\")\n",
    "print(data)"
   ]
  },
  {
   "cell_type": "markdown",
   "id": "182384c5-e896-48c3-9e42-09b77b685f57",
   "metadata": {},
   "source": [
    "Find youngest person"
   ]
  },
  {
   "cell_type": "code",
   "execution_count": 28,
   "id": "1c940fc9-0a8a-4410-813a-61b2d92d20e7",
   "metadata": {},
   "outputs": [
    {
     "name": "stdout",
     "output_type": "stream",
     "text": [
      "Player        Shubman Gill\n",
      "Age                     24\n",
      "Team                    GT\n",
      "Role               Batsman\n",
      "Runs                  3000\n",
      "Price (Cr)               8\n",
      "Name: 2, dtype: object\n"
     ]
    }
   ],
   "source": [
    "youngest = data.loc[data['Age'].idxmin()]\n",
    "print(youngest)"
   ]
  },
  {
   "cell_type": "markdown",
   "id": "3fded18a-e5f9-4b7e-a8a0-e12175102066",
   "metadata": {},
   "source": [
    "Most Role"
   ]
  },
  {
   "cell_type": "code",
   "execution_count": 44,
   "id": "b5b83e13-831f-4c1e-aeec-5d536639bb57",
   "metadata": {},
   "outputs": [
    {
     "name": "stdout",
     "output_type": "stream",
     "text": [
      "The most frequent category is Batsman with 7 occurrences.\n"
     ]
    }
   ],
   "source": [
    "print(f\"The most frequent category is {data['Role'].value_counts().idxmax()} with {data['Role'].value_counts().max()} occurrences.\")"
   ]
  },
  {
   "cell_type": "markdown",
   "id": "61e0e3f8-7456-49ff-9ed1-ce63c804c91e",
   "metadata": {},
   "source": [
    "Highest person by Price salary"
   ]
  },
  {
   "cell_type": "code",
   "execution_count": 54,
   "id": "0bb87e17-f660-4b77-98a5-ae70d7582393",
   "metadata": {},
   "outputs": [
    {
     "name": "stdout",
     "output_type": "stream",
     "text": [
      "The player with the highest runs is David Warner with 6000 runs.\n"
     ]
    }
   ],
   "source": [
    "highest_run_player = data.loc[data['Price (Cr)'].idxmax()]\n",
    "print(f\"The player with the highest runs is {highest_run_player['Player']} with {highest_run_player['Runs']} runs.\")"
   ]
  },
  {
   "cell_type": "code",
   "execution_count": null,
   "id": "be01e34a-9ac2-46d8-9974-87d54aa2ff08",
   "metadata": {},
   "outputs": [],
   "source": []
  }
 ],
 "metadata": {
  "kernelspec": {
   "display_name": "Python 3 (ipykernel)",
   "language": "python",
   "name": "python3"
  },
  "language_info": {
   "codemirror_mode": {
    "name": "ipython",
    "version": 3
   },
   "file_extension": ".py",
   "mimetype": "text/x-python",
   "name": "python",
   "nbconvert_exporter": "python",
   "pygments_lexer": "ipython3",
   "version": "3.12.7"
  }
 },
 "nbformat": 4,
 "nbformat_minor": 5
}
