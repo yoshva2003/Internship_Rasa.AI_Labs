{
 "cells": [
  {
   "cell_type": "code",
   "execution_count": 35,
   "id": "7fb83b77-4909-49a8-a95d-31188388bbbc",
   "metadata": {},
   "outputs": [],
   "source": [
    "import pandas as pd"
   ]
  },
  {
   "cell_type": "code",
   "execution_count": 37,
   "id": "4915b192-904e-45ed-96c3-e63d8975781b",
   "metadata": {},
   "outputs": [
    {
     "name": "stdout",
     "output_type": "stream",
     "text": [
      "   Year   AI   ML   DS\n",
      "0  2020  100  120  150\n",
      "1  2021  140  160  180\n",
      "2  2022  170  200  220\n",
      "3  2023  200  230  250\n"
     ]
    }
   ],
   "source": [
    "data = pd.read_csv(\"Data.csv\")\n",
    "print(data)"
   ]
  },
  {
   "cell_type": "code",
   "execution_count": 39,
   "id": "12fefc24-99ff-4e1c-9345-7162c2f42f8a",
   "metadata": {},
   "outputs": [
    {
     "name": "stdout",
     "output_type": "stream",
     "text": [
      "800\n"
     ]
    }
   ],
   "source": [
    "total_ds=data['DS'].sum()\n",
    "print(total_ds)"
   ]
  },
  {
   "cell_type": "code",
   "execution_count": 41,
   "id": "39326c25-f69c-4afa-9f75-258cf6b8d8c5",
   "metadata": {},
   "outputs": [
    {
     "name": "stdout",
     "output_type": "stream",
     "text": [
      "Course with highest growth: ML\n"
     ]
    }
   ],
   "source": [
    "growth = {\n",
    "    'AI': data.loc[data['Year'] == 2023, 'AI'].values[0] - data.loc[data['Year'] == 2020, 'AI'].values[0],\n",
    "    'ML': data.loc[data['Year'] == 2023, 'ML'].values[0] - data.loc[data['Year'] == 2020, 'ML'].values[0],\n",
    "    'DS': data.loc[data['Year'] == 2023, 'DS'].values[0] - data.loc[data['Year'] == 2020, 'DS'].values[0],}\n",
    "highest_growth_course = max(growth)\n",
    "print(\"Course with highest growth:\",highest_growth_course)"
   ]
  },
  {
   "cell_type": "code",
   "execution_count": 67,
   "id": "c22b72b6-f57f-40a5-ad40-85f39ae11f82",
   "metadata": {},
   "outputs": [
    {
     "name": "stdout",
     "output_type": "stream",
     "text": [
      "Average AI enrollment (2020–2023): 152.5\n"
     ]
    }
   ],
   "source": [
    "average_ai=data['AI'].mean()\n",
    "print(\"Average AI enrollment (2020–2023):\",average_ai)"
   ]
  },
  {
   "cell_type": "code",
   "execution_count": null,
   "id": "67e9a01a-135f-4fae-b54f-712f1aa3ccfd",
   "metadata": {},
   "outputs": [],
   "source": []
  }
 ],
 "metadata": {
  "kernelspec": {
   "display_name": "Python 3 (ipykernel)",
   "language": "python",
   "name": "python3"
  },
  "language_info": {
   "codemirror_mode": {
    "name": "ipython",
    "version": 3
   },
   "file_extension": ".py",
   "mimetype": "text/x-python",
   "name": "python",
   "nbconvert_exporter": "python",
   "pygments_lexer": "ipython3",
   "version": "3.12.7"
  }
 },
 "nbformat": 4,
 "nbformat_minor": 5
}
