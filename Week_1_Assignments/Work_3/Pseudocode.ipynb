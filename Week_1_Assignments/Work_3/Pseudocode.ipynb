{
 "cells": [
  {
   "cell_type": "markdown",
   "id": "3be19bff-5dad-44bc-9d9d-7e4bd26b56b4",
   "metadata": {},
   "source": [
    "pseudocode to calculate factorial of a number."
   ]
  },
  {
   "cell_type": "code",
   "execution_count": null,
   "id": "2cfb98fb-7241-4015-867b-08880f5d2209",
   "metadata": {},
   "outputs": [],
   "source": [
    "Input n\n",
    "Set fact = 1\n",
    "For i = 1 to n\n",
    "    fact = fact * i\n",
    "End For\n",
    "Output fact"
   ]
  },
  {
   "cell_type": "code",
   "execution_count": 7,
   "id": "5aa459a2-e101-4c4a-afc4-90106dc366fd",
   "metadata": {},
   "outputs": [
    {
     "name": "stdout",
     "output_type": "stream",
     "text": [
      "20\n"
     ]
    }
   ],
   "source": [
    "# Initialize sum to 0\n",
    "sum = 0\n",
    "\n",
    "# Loop through numbers 1 to 5\n",
    "for num in range(1,10):\n",
    "    # Check if the number is even\n",
    "    if num % 2 == 0:\n",
    "        sum += num  # Add the even number to sum\n",
    "\n",
    "# Output the result\n",
    "print(sum)"
   ]
  },
  {
   "cell_type": "markdown",
   "id": "e4961874-baf1-4d19-851f-6c726333dc7b",
   "metadata": {},
   "source": [
    "Pseudocode to Print Even Numbers from 1 to 20"
   ]
  },
  {
   "cell_type": "code",
   "execution_count": null,
   "id": "eae07a75-83c0-4500-9ac0-67a982c59f79",
   "metadata": {},
   "outputs": [],
   "source": [
    "Set sum = 0\n",
    "For num = 1 to 5\n",
    "    If num mod 2 = 0\n",
    "        sum = sum + num\n",
    "    End If\n",
    "End For\n",
    "Output sum"
   ]
  },
  {
   "cell_type": "code",
   "execution_count": 9,
   "id": "43a9c223-09f9-4278-92be-2e5c1e2e58d7",
   "metadata": {},
   "outputs": [
    {
     "name": "stdin",
     "output_type": "stream",
     "text": [
      "Enter a number:  8\n"
     ]
    },
    {
     "name": "stdout",
     "output_type": "stream",
     "text": [
      "The factorial of 8 is 40320\n"
     ]
    }
   ],
   "source": [
    "# Input n\n",
    "n = int(input(\"Enter a number: \"))\n",
    "\n",
    "# Initialize fact to 1\n",
    "fact = 1\n",
    "\n",
    "# Loop from 1 to n\n",
    "for i in range(1, n + 1):\n",
    "    fact *= i  # Multiply fact by i\n",
    "\n",
    "# Output the factorial\n",
    "print(f\"The factorial of {n} is {fact}\")\n"
   ]
  },
  {
   "cell_type": "markdown",
   "id": "3bf3a7e4-6472-4df7-9b23-db8ee158ee48",
   "metadata": {},
   "source": [
    "Trace Logic to Sum Even Numbers Between 1 and 5"
   ]
  },
  {
   "cell_type": "code",
   "execution_count": null,
   "id": "7dac600e-c92d-4b3e-b9a7-8d02486143d9",
   "metadata": {},
   "outputs": [],
   "source": [
    "Set sum = 0\n",
    "For num = 1 to 5\n",
    "    If num mod 2 = 0\n",
    "        sum = sum + num\n",
    "    End If\n",
    "End For\n",
    "Output sum"
   ]
  },
  {
   "cell_type": "code",
   "execution_count": 29,
   "id": "1e6fa4f2-e0d8-4068-95ac-ac984ad09a2a",
   "metadata": {},
   "outputs": [
    {
     "name": "stdout",
     "output_type": "stream",
     "text": [
      "The sum of even numbers from 1 to 5 is: 6\n"
     ]
    }
   ],
   "source": [
    "# Initialize sum to 0\n",
    "sum = 0\n",
    "# Loop through numbers 1 to 5\n",
    "for num in range(1,6):\n",
    "    # Check if the number is even\n",
    "    if num % 2 == 0:\n",
    "        sum += num  # Add the even number to sum\n",
    "# Output the result\n",
    "print(f\"The sum of even numbers from 1 to 5 is: {sum}\")"
   ]
  },
  {
   "cell_type": "code",
   "execution_count": null,
   "id": "e8d61af4-4ca2-4e37-a93a-7c8fc24b4135",
   "metadata": {},
   "outputs": [],
   "source": []
  }
 ],
 "metadata": {
  "kernelspec": {
   "display_name": "Python 3 (ipykernel)",
   "language": "python",
   "name": "python3"
  },
  "language_info": {
   "codemirror_mode": {
    "name": "ipython",
    "version": 3
   },
   "file_extension": ".py",
   "mimetype": "text/x-python",
   "name": "python",
   "nbconvert_exporter": "python",
   "pygments_lexer": "ipython3",
   "version": "3.12.7"
  }
 },
 "nbformat": 4,
 "nbformat_minor": 5
}
