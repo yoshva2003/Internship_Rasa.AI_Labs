{
 "cells": [
  {
   "cell_type": "code",
   "execution_count": null,
   "id": "2cd92469-534c-4d53-81b7-9dcd47255d4f",
   "metadata": {},
   "outputs": [
    {
     "name": "stdout",
     "output_type": "stream",
     "text": [
      "\n",
      "Missed letters: \n",
      "Word: _ _ _ _ _ _ _ _\n"
     ]
    },
    {
     "name": "stdin",
     "output_type": "stream",
     "text": [
      "Guess a letter:  e\n"
     ]
    },
    {
     "name": "stdout",
     "output_type": "stream",
     "text": [
      "\n",
      "Missed letters: \n",
      "Word: _ E _ _ _ _ _ _\n"
     ]
    },
    {
     "name": "stdin",
     "output_type": "stream",
     "text": [
      "Guess a letter:  g\n"
     ]
    },
    {
     "name": "stdout",
     "output_type": "stream",
     "text": [
      "\n",
      "Missed letters: G\n",
      "Word: _ E _ _ _ _ _ _\n"
     ]
    },
    {
     "name": "stdin",
     "output_type": "stream",
     "text": [
      "Guess a letter:  r\n"
     ]
    },
    {
     "name": "stdout",
     "output_type": "stream",
     "text": [
      "\n",
      "Missed letters: G\n",
      "Word: R E _ _ _ _ _ R\n"
     ]
    },
    {
     "name": "stdin",
     "output_type": "stream",
     "text": [
      "Guess a letter:  s\n"
     ]
    },
    {
     "name": "stdout",
     "output_type": "stream",
     "text": [
      "\n",
      "Missed letters: G\n",
      "Word: R E S _ S _ _ R\n"
     ]
    },
    {
     "name": "stdin",
     "output_type": "stream",
     "text": [
      "Guess a letter:  i\n"
     ]
    },
    {
     "name": "stdout",
     "output_type": "stream",
     "text": [
      "\n",
      "Missed letters: G\n",
      "Word: R E S I S _ _ R\n"
     ]
    },
    {
     "name": "stdin",
     "output_type": "stream",
     "text": [
      "Guess a letter:  t\n"
     ]
    },
    {
     "name": "stdout",
     "output_type": "stream",
     "text": [
      "\n",
      "Missed letters: G\n",
      "Word: R E S I S T _ R\n"
     ]
    },
    {
     "name": "stdin",
     "output_type": "stream",
     "text": [
      "Guess a letter:  o\n"
     ]
    },
    {
     "name": "stdout",
     "output_type": "stream",
     "text": [
      "\n",
      "Congratulations! You guessed the word: RESISTOR\n"
     ]
    }
   ],
   "source": [
    "import random  # import random function\n",
    "# Function to choose a random word from the word list\n",
    "def choose_word(word_list):\n",
    "    return random.choice(word_list).upper() #word into upper case\n",
    "\n",
    "# Function to display the game board with missed and correct letters\n",
    "def display_board(missed_letters, correct_letters, secret_word):\n",
    "    print(\"\\nMissed letters:\", ' '.join(missed_letters))  # Show missed letters\n",
    "    # Display guessed letters or underscores for unguessed letters\n",
    "    display = [letter if letter in correct_letters else '_' for letter in secret_word]\n",
    "    print(\"Word: \" + ' '.join(display))\n",
    "\n",
    "# guess and validate the input\n",
    "def get_guess(already_guessed):\n",
    "    while True:\n",
    "        guess = input(\"Guess a letter: \").upper()  # Get user input and convert to uppercase\n",
    "        if len(guess) != 1:\n",
    "            print(\"Please enter only one letter.\")  # Ensure input is a single character\n",
    "        elif not guess.isalpha():\n",
    "            print(\"Please enter a valid letter.\")  # Ensure input is a letter\n",
    "        elif guess in already_guessed:\n",
    "            print(\"You have already guessed that letter. Try again.\")  # Prevent repeated guesses\n",
    "        else:\n",
    "            return guess  # Return valid guess\n",
    "\n",
    "# Function to check if the game is over (win or lose condition)\n",
    "def check_game_over(correct_letters, missed_letters, secret_word):\n",
    "    if all(letter in correct_letters for letter in secret_word):  # Check if all letters are guessed\n",
    "        print(f\"\\nCongratulations! You guessed the word: {secret_word}\")  # Player wins\n",
    "        return True\n",
    "    elif len(missed_letters) >= 6:  # Check if too many incorrect guesses\n",
    "        print(f\"\\nGame Over! The word was: {secret_word}\")  # Player loses\n",
    "        return True\n",
    "    return False  # Continue playing\n",
    "\n",
    "#Ask if the player wants to play again\n",
    "def play_again():\n",
    "    return input(\"\\nDo you want to play again? (yes or no): \").lower().startswith('y')  # Return True if 'yes'\n",
    "\n",
    "# Function to play the word guessing game\n",
    "def play():\n",
    "    # List of possible words for the game\n",
    "    word_list = [\"python\", \"jupyter\", \"programming\", \"function\", \"analytics\", \"explore\", \"generative\", \"infinite\", \"network\", \"foundation\",\"algorithm\",\n",
    "\"bandwidth\",\"compiler\",\"encryption\",\"firewall\",\"latency\",\"protocol\",\"cache\",\"syntax\",\"virtualization\",\"quantum\",\"resistor\",\"nanotechnology\",\"biometrics\",\"cloud\",\n",
    "\"database\",\"sensor\",\"neural\",\"pixel\"]\n",
    "    secret_word = choose_word(word_list)  # Select a random secret word\n",
    "    missed_letters = []  # List to store incorrect guesses\n",
    "    correct_letters = []  # List to store correct guesses\n",
    "\n",
    "    while True:  # Main game loop\n",
    "        display_board(missed_letters, correct_letters, secret_word)  # Show game board\n",
    "        guess = get_guess(missed_letters + correct_letters)  # Get player guess\n",
    "\n",
    "        if guess in secret_word:\n",
    "            correct_letters.append(guess)  # Add correct guess to list\n",
    "        else:\n",
    "            missed_letters.append(guess)  # Add incorrect guess to list\n",
    "\n",
    "        # Check if the game is over and restart if player wants to play again\n",
    "        if check_game_over(correct_letters, missed_letters, secret_word):\n",
    "            if play_again():\n",
    "                secret_word = choose_word(word_list)  # Select a new word\n",
    "                missed_letters = []  # Reset missed letters\n",
    "                correct_letters = []  # Reset correct letters\n",
    "            else:\n",
    "                break  # Exit the game\n",
    "\n",
    "# To run the game\n",
    "play()"
   ]
  },
  {
   "cell_type": "code",
   "execution_count": null,
   "id": "035a575e-c3d8-4c8f-b19b-860889af8152",
   "metadata": {},
   "outputs": [],
   "source": []
  }
 ],
 "metadata": {
  "kernelspec": {
   "display_name": "Python 3 (ipykernel)",
   "language": "python",
   "name": "python3"
  },
  "language_info": {
   "codemirror_mode": {
    "name": "ipython",
    "version": 3
   },
   "file_extension": ".py",
   "mimetype": "text/x-python",
   "name": "python",
   "nbconvert_exporter": "python",
   "pygments_lexer": "ipython3",
   "version": "3.12.7"
  }
 },
 "nbformat": 4,
 "nbformat_minor": 5
}
