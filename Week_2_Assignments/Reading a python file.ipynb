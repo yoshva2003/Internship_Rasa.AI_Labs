{
 "cells": [
  {
   "cell_type": "markdown",
   "id": "41b3d5c8-46c9-43ee-9933-de488a981633",
   "metadata": {},
   "source": [
    "## File Reading in Python"
   ]
  },
  {
   "cell_type": "markdown",
   "id": "c8c18dab-75b6-417e-8a94-305184e54b0d",
   "metadata": {},
   "source": [
    "## Task:1\n",
    "1. Create a file called notes.txt and add 4–5 lines of text.\n",
    "2. Write a program to read the entire file and print the content.\n"
   ]
  },
  {
   "cell_type": "code",
   "execution_count": 1,
   "id": "bb195dad-7dd1-45f4-ac54-548a2d9a226d",
   "metadata": {},
   "outputs": [
    {
     "name": "stdout",
     "output_type": "stream",
     "text": [
      "Hlo all!.\n",
      "Welcome to Rasa.Al labs.\n",
      "We are doing our internship based on generativeAI.\n",
      "We are in second week going learn about generativeAI tools and Python.\n",
      "Thank you.\n",
      "\n"
     ]
    }
   ],
   "source": [
    "with open(\"notes.txt\", \"r\") as file:\n",
    "    content = file.read()\n",
    "print(content)"
   ]
  },
  {
   "cell_type": "markdown",
   "id": "d6a4779c-8def-4eb1-aa65-107eabc1253a",
   "metadata": {},
   "source": [
    "## Task:2\n",
    "- Modify your earlier program to read the file line by line and print with line numbers "
   ]
  },
  {
   "cell_type": "code",
   "execution_count": 3,
   "id": "5515081a-962b-4438-bbd7-b9d91073d7d2",
   "metadata": {},
   "outputs": [
    {
     "name": "stdout",
     "output_type": "stream",
     "text": [
      "1:Hlo all!.\n",
      "2:Welcome to Rasa.Al labs.\n",
      "3:We are doing our internship based on generativeAI.\n",
      "4:We are in second week going learn about generativeAI tools and Python.\n",
      "5:Thank you.\n"
     ]
    }
   ],
   "source": [
    "with open(\"notes.txt\", \"r\") as file:\n",
    "    line_number=1\n",
    "    line = file.readline()\n",
    "    while line:\n",
    "        print(f\"{line_number}:{line.strip()}\")\n",
    "        line_number+=1\n",
    "        line = file.readline()"
   ]
  },
  {
   "cell_type": "markdown",
   "id": "67026434-9269-48f2-9381-8ef3a98b469c",
   "metadata": {},
   "source": [
    "## Task:3\n",
    "- Count the number of words in each line and print it in the format:\n",
    "  Line 1 has 6 words\n"
   ]
  },
  {
   "cell_type": "code",
   "execution_count": 39,
   "id": "568239c6-6964-4694-be52-1710794d66ee",
   "metadata": {},
   "outputs": [
    {
     "name": "stdout",
     "output_type": "stream",
     "text": [
      "['Hlo all!.\\n', 'Welcome to Rasa.Al labs.\\n', 'We are doing our internship based on generativeAI.\\n', 'We are in second week going learn about generativeAI tools and Python.\\n', 'Thank you.\\n']\n",
      "Total lines: 5\n",
      "Line1 has 2 words\n",
      "Line2 has 4 words\n",
      "Line3 has 8 words\n",
      "Line4 has 12 words\n",
      "Line5 has 2 words\n"
     ]
    }
   ],
   "source": [
    "with open(\"notes.txt\",\"r\") as file:\n",
    "    lines=file.readlines()\n",
    "    print(lines)\n",
    "    print(\"Total lines:\",len(lines))\n",
    "    for i,line in enumerate(lines,start=1):\n",
    "        word_count=len(line.split())\n",
    "        print(f\"Line{i} has {word_count} words\")"
   ]
  },
  {
   "cell_type": "markdown",
   "id": "8cf48121-fa1a-4397-95f7-5d847ca4da73",
   "metadata": {},
   "source": [
    "## Task:4\n",
    "- Use this method to find the total number of characters (excluding newlines) in the file.\n"
   ]
  },
  {
   "cell_type": "code",
   "execution_count": 7,
   "id": "48fab4dc-12b5-402a-b5c7-bc1e3eca041d",
   "metadata": {},
   "outputs": [
    {
     "name": "stdout",
     "output_type": "stream",
     "text": [
      "Total characters(excluding newlines):163\n"
     ]
    }
   ],
   "source": [
    "with open(\"notes.txt\",\"r\")as file:\n",
    "    total_chars=0\n",
    "    for index,line in enumerate(file,1):\n",
    "        stripped_line=line.strip()\n",
    "        total_chars+=len(stripped_line)\n",
    "    print(f\"Total characters(excluding newlines):{total_chars}\")"
   ]
  },
  {
   "cell_type": "markdown",
   "id": "22f6a9a0-88a0-49d0-b730-cf430c55bc94",
   "metadata": {},
   "source": [
    "## Task:5\n",
    "- Ask the user to enter a filename and check whether the file exists. If it does, read and display the content; otherwise, print a warning.\n"
   ]
  },
  {
   "cell_type": "code",
   "execution_count": 41,
   "id": "6f85003b-013e-4d22-9ef9-6acbbdc1f6ca",
   "metadata": {},
   "outputs": [
    {
     "name": "stdin",
     "output_type": "stream",
     "text": [
      "Enter the filename:  notes.txt\n"
     ]
    },
    {
     "name": "stdout",
     "output_type": "stream",
     "text": [
      "File exists. Size: 173 bytes\n",
      "\n",
      "File Content:\n",
      "\n",
      "Hlo all!.\n",
      "Welcome to Rasa.Al labs.\n",
      "We are doing our internship based on generativeAI.\n",
      "We are in second week going learn about generativeAI tools and Python.\n",
      "Thank you.\n",
      "\n"
     ]
    }
   ],
   "source": [
    "from pathlib import Path\n",
    "file_name = input(\"Enter the filename: \")\n",
    "file_path = Path(file_name)\n",
    "if file_path.exists():\n",
    "    print(\"File exists. Size:\", file_path.stat().st_size, \"bytes\")\n",
    "    with file_path.open(\"r\", encoding=\"utf-8\") as file:\n",
    "        content = file.read()\n",
    "        print(\"\\nFile Content:\\n\")\n",
    "        print(content)\n",
    "else:\n",
    "    print(\"Warning: File does not exist.\")"
   ]
  },
  {
   "cell_type": "code",
   "execution_count": null,
   "id": "e3fc199e-1be2-434a-99a4-5794ac147604",
   "metadata": {},
   "outputs": [],
   "source": []
  }
 ],
 "metadata": {
  "kernelspec": {
   "display_name": "Python 3 (ipykernel)",
   "language": "python",
   "name": "python3"
  },
  "language_info": {
   "codemirror_mode": {
    "name": "ipython",
    "version": 3
   },
   "file_extension": ".py",
   "mimetype": "text/x-python",
   "name": "python",
   "nbconvert_exporter": "python",
   "pygments_lexer": "ipython3",
   "version": "3.12.7"
  }
 },
 "nbformat": 4,
 "nbformat_minor": 5
}
