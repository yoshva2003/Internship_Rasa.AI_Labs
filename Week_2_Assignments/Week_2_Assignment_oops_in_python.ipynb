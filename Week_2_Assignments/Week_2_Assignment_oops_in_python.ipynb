{
 "cells": [
  {
   "cell_type": "markdown",
   "id": "e3585d73-1a18-40e5-9922-feb080fb7d9a",
   "metadata": {},
   "source": [
    "## OOPS"
   ]
  },
  {
   "cell_type": "markdown",
   "id": "7f9ac1d7-144a-435b-892d-3680426d4a7f",
   "metadata": {},
   "source": [
    "## Task:1\n",
    "1. Create a `Car` class with attributes `brand`, `model`, and `year`.\n",
    "2. Add a method `get_details()` to display all the information."
   ]
  },
  {
   "cell_type": "code",
   "execution_count": 68,
   "id": "34b9021a-ee55-4c61-b535-3f3b74e24fd9",
   "metadata": {},
   "outputs": [
    {
     "name": "stdout",
     "output_type": "stream",
     "text": [
      "Brand:Inova,model:suv,year:2024\n",
      "Brand:baleeno,model:suv,year:2025\n"
     ]
    }
   ],
   "source": [
    "class car:\n",
    "    def __init__(self,brand,model,year):\n",
    "        self.brand=brand\n",
    "        self.model=model\n",
    "        self.year=year\n",
    "    def get_details(self):\n",
    "        print(f\"Brand:{self.brand},model:{self.model},year:{self.year}\")\n",
    "car1=car(\"Inova\",\"suv\",2024)\n",
    "car2=car(\"baleeno\",\"suv\",2025)\n",
    "car1.get_details()\n",
    "car2.get_details()"
   ]
  },
  {
   "cell_type": "markdown",
   "id": "1932fd3f-02bb-473e-91a7-e8787e5ba36f",
   "metadata": {},
   "source": [
    "## Task:2\n",
    "Create a `BankAccount` class with private `balance` and public methods `deposit()`, `withdraw()`, and `check_balance()`."
   ]
  },
  {
   "cell_type": "markdown",
   "id": "6c0e2334-173d-42cb-b69a-e59b1673835f",
   "metadata": {},
   "source": [
    "## Task:3\n",
    "- Create a base class `Employee` and a derived class `Manager` that adds a `department` field.\n",
    "- Override a method in the derived class."
   ]
  },
  {
   "cell_type": "code",
   "execution_count": 167,
   "id": "fff754a6-be39-4328-ab72-a7544e46e221",
   "metadata": {},
   "outputs": [
    {
     "name": "stdout",
     "output_type": "stream",
     "text": [
      "The employee Alias at Rasa.AI\n",
      "The Manager belongs to the dept Finance\n"
     ]
    }
   ],
   "source": [
    "class Employee:\n",
    "    def __init__(self,name):\n",
    "        self.name=name\n",
    "    def department(self):\n",
    "        print(f\"The employee {self.name} at Rasa.AI\")\n",
    "class Manager:\n",
    "    def __init__(self,dept):\n",
    "        self.dept=dept\n",
    "    def department(self):\n",
    "        print(f\"The Manager belongs to the dept {self.dept}\")\n",
    "e1=Employee(\"Alias\")\n",
    "e1.department()\n",
    "m1=Manager(\"Finance\")\n",
    "m1.department()"
   ]
  },
  {
   "cell_type": "markdown",
   "id": "1b1066f1-7c50-4658-b24c-4c69a60d5567",
   "metadata": {},
   "source": [
    "## Task:4\n",
    "- Create an abstract `Shape` class with method `area()`. Derive `Rectangle` and `Triangle` classes with custom implementations.\n"
   ]
  },
  {
   "cell_type": "code",
   "execution_count": 178,
   "id": "21157973-70dc-4e96-a46b-d93263406624",
   "metadata": {},
   "outputs": [
    {
     "name": "stdout",
     "output_type": "stream",
     "text": [
      "area of rectangle is  20 \n",
      "area of triangle is 10.0 \n"
     ]
    }
   ],
   "source": [
    "class shape:\n",
    "    def area(self):\n",
    "        pass\n",
    "class Rectangle:\n",
    "    def area(self,l,b):\n",
    "        self.length=l\n",
    "        self.breadth=b\n",
    "        print(f\"area of rectangle is  {l*b} \")\n",
    "class Triangle:\n",
    "    def area(self,l,b):\n",
    "        self.length=l\n",
    "        self.breadth=b\n",
    "        print(f\"area of triangle is {0.5*l*b} \")\n",
    "\n",
    "for i in (Rectangle(),Triangle()):\n",
    "    i.area(4,5)"
   ]
  },
  {
   "cell_type": "markdown",
   "id": "aba43337-52c1-4486-9d40-b494b7f007d0",
   "metadata": {},
   "source": [
    "## Task:5\n",
    "- Create a class `Book` with `__init__()` initializing book details. Use `__del__()` to print a message when the book object is deleted.\n"
   ]
  },
  {
   "cell_type": "code",
   "execution_count": 212,
   "id": "07d8dea0-0fe6-4568-9c91-c774a0346333",
   "metadata": {},
   "outputs": [
    {
     "name": "stdout",
     "output_type": "stream",
     "text": [
      " The title is ML by Orelley in 2002 \n",
      "book ML is being deleted from memory\n"
     ]
    }
   ],
   "source": [
    "class Book:\n",
    "    def __init__(self,title, author,year):\n",
    "        self.title=title\n",
    "        self.author=author\n",
    "        self.year=year\n",
    "    def __del__(self):\n",
    "        print(f\"book {self.title} is being deleted from memory\")\n",
    "    def get_info(self):\n",
    "        print(f\" The title is {self.title} by {self.author} in {self.year} \")\n",
    "        \n",
    "bk=Book(\"ML\",\"Orelley\",2002)\n",
    "bk.get_info()\n",
    "bk.__del__()"
   ]
  },
  {
   "cell_type": "code",
   "execution_count": null,
   "id": "83b234f0-f527-4790-86e0-e1ddb2499ffe",
   "metadata": {},
   "outputs": [],
   "source": []
  },
  {
   "cell_type": "code",
   "execution_count": 126,
   "id": "4de70332-1146-4f37-828f-e5fce6dee5c9",
   "metadata": {},
   "outputs": [
    {
     "name": "stdout",
     "output_type": "stream",
     "text": [
      "Details:Amali,5000\n",
      "Deposited amount is:300 and the  balance is:5300\n",
      "withdrawl amount is :300\n",
      "the current balance is:  5000 \n"
     ]
    }
   ],
   "source": [
    "class Account:\n",
    "    def __init__(self,owner,balance):\n",
    "        self.owner=owner\n",
    "        self.__balance=balance\n",
    "        print(f\"Details:{self.owner},{self.__balance}\")       \n",
    "    def deposit(self,amount):\n",
    "        self.amount=amount\n",
    "        self.__balance+=amount\n",
    "        print(f\"Deposited amount is:{self.amount} and the  balance is:{self.__balance}\")  \n",
    "    def withdraw(self,amount):\n",
    "        self.amount=amount\n",
    "        self.__balance-=amount\n",
    "        print(f\"withdrawl amount is :{self.amount}\")\n",
    "    def get__balance(self):\n",
    "        print(f\"the current balance is:  {self.__balance} \")\n",
    "person=Account(\"Amali\",5000)\n",
    "person.deposit(300)\n",
    "person.withdraw(300)\n",
    "person.get__balance()"
   ]
  }
 ],
 "metadata": {
  "kernelspec": {
   "display_name": "Python 3 (ipykernel)",
   "language": "python",
   "name": "python3"
  },
  "language_info": {
   "codemirror_mode": {
    "name": "ipython",
    "version": 3
   },
   "file_extension": ".py",
   "mimetype": "text/x-python",
   "name": "python",
   "nbconvert_exporter": "python",
   "pygments_lexer": "ipython3",
   "version": "3.12.7"
  }
 },
 "nbformat": 4,
 "nbformat_minor": 5
}
