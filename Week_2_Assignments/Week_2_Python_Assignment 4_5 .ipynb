{
 "cells": [
  {
   "cell_type": "markdown",
   "id": "d242a153-02d2-4e7d-9545-4ccd44c747d4",
   "metadata": {},
   "source": [
    "## Anagram"
   ]
  },
  {
   "cell_type": "code",
   "execution_count": 3,
   "id": "27992c95-8ded-4a8a-a145-1af5e639e6af",
   "metadata": {},
   "outputs": [
    {
     "name": "stdin",
     "output_type": "stream",
     "text": [
      "Enter a string1: sic\n",
      "Enter a string2: cis\n"
     ]
    },
    {
     "name": "stdout",
     "output_type": "stream",
     "text": [
      "Two strings are anagram\n"
     ]
    }
   ],
   "source": [
    "str1=str(input(\"Enter a string1:\")).replace(\" \",\"\").lower()\n",
    "str2=str(input(\"Enter a string2:\")).replace(\" \",\"\").lower()\n",
    "if sorted(str1)==sorted(str2):\n",
    "    print(\"Two strings are anagram\")\n",
    "else:\n",
    "    print(\"Two strings are not anagram\")"
   ]
  },
  {
   "cell_type": "markdown",
   "id": "4e7b94c5-7422-4791-8864-2758b4272982",
   "metadata": {},
   "source": [
    "## Find duplicates"
   ]
  },
  {
   "cell_type": "code",
   "execution_count": 25,
   "id": "5a315436-4b57-4573-8231-01b3db3415c4",
   "metadata": {},
   "outputs": [
    {
     "name": "stdout",
     "output_type": "stream",
     "text": [
      "2\n",
      "3\n",
      "3\n"
     ]
    }
   ],
   "source": [
    "def duplicates(lst):\n",
    "    s=set()\n",
    "    for i in lst:\n",
    "        if i in s:\n",
    "            print(i)\n",
    "        else:\n",
    "            s.add(i)      \n",
    "lst=[1,2,3,2,3,4,3,5,6]\n",
    "duplicates(lst)"
   ]
  },
  {
   "cell_type": "markdown",
   "id": "0d07228c-cd62-488e-bcbf-81349ad121c7",
   "metadata": {},
   "source": [
    "## find first non-repeating character"
   ]
  },
  {
   "cell_type": "code",
   "execution_count": 23,
   "id": "fb70e9b3-1876-4814-9000-f1287983f2d2",
   "metadata": {},
   "outputs": [
    {
     "name": "stdout",
     "output_type": "stream",
     "text": [
      "c\n"
     ]
    }
   ],
   "source": [
    "def non_rep_char(s):\n",
    "    for i in s:\n",
    "        if s.count(i)==1:\n",
    "            print(i)\n",
    "            break\n",
    "s=\"abcdefabrd\"\n",
    "non_rep_char(s)"
   ]
  },
  {
   "cell_type": "markdown",
   "id": "cca7b75b-3232-4ce1-a0d8-132d8b163f36",
   "metadata": {},
   "source": [
    "## Fibonacci with Memoization"
   ]
  },
  {
   "cell_type": "code",
   "execution_count": 21,
   "id": "bb4214ea-c6bf-4676-af68-a74a9370e2a4",
   "metadata": {},
   "outputs": [
    {
     "name": "stdout",
     "output_type": "stream",
     "text": [
      "5\n"
     ]
    }
   ],
   "source": [
    "def fib(n,memo={}):\n",
    "    if n in memo:\n",
    "        return memo[n]\n",
    "    if n<=1:\n",
    "        return n\n",
    "    memo[n]=fib(n-1,memo)+fib(n-2,memo)\n",
    "    return memo[n]\n",
    "print(fib(5))"
   ]
  },
  {
   "cell_type": "markdown",
   "id": "90274e46-154c-4b3b-9822-fa1fac8c85b1",
   "metadata": {},
   "source": [
    "## using hash map"
   ]
  },
  {
   "cell_type": "code",
   "execution_count": 27,
   "id": "dff1881a-8cf1-41d8-9a7e-65db44b2a5ae",
   "metadata": {},
   "outputs": [
    {
     "name": "stdout",
     "output_type": "stream",
     "text": [
      "(2, 7)\n"
     ]
    }
   ],
   "source": [
    "def two_sums(nums,target):\n",
    "    s={}\n",
    "    for i in nums:\n",
    "        complement=target-i\n",
    "        if complement in s:\n",
    "            return (complement,i)\n",
    "        s[i]=True\n",
    "    return None\n",
    "n=[2,15,7,11]\n",
    "print(two_sums(n,9))"
   ]
  },
  {
   "cell_type": "markdown",
   "id": "61469c13-404e-431b-b4f6-aa45c582fff6",
   "metadata": {},
   "source": [
    "## Roman to integer"
   ]
  },
  {
   "cell_type": "code",
   "execution_count": 33,
   "id": "2849a378-9de9-47ed-aefa-ecf9580e16de",
   "metadata": {},
   "outputs": [
    {
     "name": "stdout",
     "output_type": "stream",
     "text": [
      "12\n"
     ]
    }
   ],
   "source": [
    "def roman_to_int(s):\n",
    "    roman_dict={'I':1,'V':5,'X':10,'L':50,'C':100,'D':500,'M':1000}\n",
    "    total=0\n",
    "    for i in range (len(s)):\n",
    "        if i+1 <len(s) and roman_dict[s[i]] < roman_dict[s[i+1]]:\n",
    "            total-=roman_dict[s[i]]\n",
    "        else:\n",
    "            total+=roman_dict[s[i]]\n",
    "    return total\n",
    "\n",
    "print(roman_to_int(\"XII\"))"
   ]
  },
  {
   "cell_type": "markdown",
   "id": "15f10a27-8591-4475-9d99-5a197daeae07",
   "metadata": {},
   "source": [
    "## reverse list"
   ]
  },
  {
   "cell_type": "code",
   "execution_count": 31,
   "id": "96bef13b-26e5-447a-9e0a-8b9d81e85405",
   "metadata": {},
   "outputs": [
    {
     "name": "stdout",
     "output_type": "stream",
     "text": [
      "[5, 4, 3, 2, 1]\n"
     ]
    }
   ],
   "source": [
    "def rev_lst(lst):\n",
    "    result=lst[::-1]\n",
    "    return result\n",
    "l=[1,2,3,4,5]\n",
    "print(rev_lst(l))"
   ]
  },
  {
   "cell_type": "markdown",
   "id": "cb25104d-3999-4451-98ef-9585b8920b6a",
   "metadata": {},
   "source": [
    "## balanced paranthesses"
   ]
  },
  {
   "cell_type": "code",
   "execution_count": 29,
   "id": "64cd458b-b51a-452c-a34c-b3c9ff4655b1",
   "metadata": {},
   "outputs": [
    {
     "name": "stdout",
     "output_type": "stream",
     "text": [
      "True\n",
      "False\n"
     ]
    }
   ],
   "source": [
    "def is_balanced(expr):\n",
    "    stack = []\n",
    "    for char in expr:\n",
    "        if char == '(':\n",
    "            stack.append(char)\n",
    "        elif char == ')':\n",
    "            if not stack:\n",
    "                return False\n",
    "            stack.pop()\n",
    "    return not stack\n",
    "print(is_balanced(\"(())()\"))\n",
    "print(is_balanced(\"(()\"))"
   ]
  },
  {
   "cell_type": "code",
   "execution_count": 35,
   "id": "e87cc50c-08b6-484a-be67-734c040b843a",
   "metadata": {},
   "outputs": [
    {
     "name": "stdout",
     "output_type": "stream",
     "text": [
      "True\n"
     ]
    }
   ],
   "source": [
    "def is_balanced(expr):\n",
    "    stack=[]\n",
    "    for i in expr:\n",
    "        if i=='(':\n",
    "            stack.append(i)\n",
    "        elif i==')':\n",
    "            if not stack:\n",
    "                return False\n",
    "            stack.pop()\n",
    "    return not stack\n",
    "\n",
    "print(is_balanced(\"()()(())\"))"
   ]
  },
  {
   "cell_type": "markdown",
   "id": "f87facdc-36d9-4bce-8a3a-4cb4babdf79f",
   "metadata": {},
   "source": [
    "## character frequency sorter"
   ]
  },
  {
   "cell_type": "code",
   "execution_count": 43,
   "id": "43d87ff7-8d86-4594-83bc-b2e64cc38b52",
   "metadata": {},
   "outputs": [
    {
     "name": "stdout",
     "output_type": "stream",
     "text": [
      "nnttcoe\n"
     ]
    }
   ],
   "source": [
    "def freq_sort(s):\n",
    "    freq={}\n",
    "    for i in s:\n",
    "        if i not in freq:\n",
    "            freq[i]=1\n",
    "        else:\n",
    "            freq[i]+=1\n",
    "    sort_char=sorted(freq,key=lambda x:freq[x], reverse=True)\n",
    "    result=''\n",
    "    for i in sort_char:\n",
    "        result+=i*freq[i]\n",
    "    return result\n",
    "print(freq_sort(\"content\"))"
   ]
  },
  {
   "cell_type": "markdown",
   "id": "48b6c131-4c27-4de8-82c3-3562b9e66d0c",
   "metadata": {},
   "source": [
    "## email normalizer"
   ]
  },
  {
   "cell_type": "code",
   "execution_count": 45,
   "id": "51b4a601-2e81-497d-a1b7-6457db3305a0",
   "metadata": {},
   "outputs": [
    {
     "name": "stdout",
     "output_type": "stream",
     "text": [
      "['admin@yahoo.com', 'user@gmail.com']\n"
     ]
    }
   ],
   "source": [
    "def normal_txt(emails):\n",
    "    normal=set()\n",
    "    for i in emails:\n",
    "        normal.add(i.strip().lower())\n",
    "    return list(normal)\n",
    "emails = [\"User@Gmail.com \", \"user@gmail.COM\", \"admin@yahoo.com\"]\n",
    "print(normal_txt(emails))"
   ]
  },
  {
   "cell_type": "code",
   "execution_count": null,
   "id": "92d761ad-644f-46c8-912b-2cda149f71d5",
   "metadata": {},
   "outputs": [],
   "source": []
  }
 ],
 "metadata": {
  "kernelspec": {
   "display_name": "Python 3 (ipykernel)",
   "language": "python",
   "name": "python3"
  },
  "language_info": {
   "codemirror_mode": {
    "name": "ipython",
    "version": 3
   },
   "file_extension": ".py",
   "mimetype": "text/x-python",
   "name": "python",
   "nbconvert_exporter": "python",
   "pygments_lexer": "ipython3",
   "version": "3.12.7"
  }
 },
 "nbformat": 4,
 "nbformat_minor": 5
}
