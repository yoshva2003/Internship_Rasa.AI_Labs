{
 "cells": [
  {
   "cell_type": "markdown",
   "id": "ab02ebe5-57c7-48a4-9de5-8d58cf3bc8ed",
   "metadata": {},
   "source": [
    "## Python_Intern_Assignment_1"
   ]
  },
  {
   "cell_type": "markdown",
   "id": "9421ab7e-61e7-4063-8720-35cda6a0e1d4",
   "metadata": {},
   "source": [
    "Formatted Twinkle Poem"
   ]
  },
  {
   "cell_type": "code",
   "execution_count": 9,
   "id": "91227ce3-b620-4e87-8f4d-1b3c48e648ce",
   "metadata": {},
   "outputs": [
    {
     "name": "stdout",
     "output_type": "stream",
     "text": [
      "Twinkle, twinkle, little star,\n",
      "\tHow I wonder what you are!\n",
      "\t\tUp above the world so high,\n",
      "\t\tLike a diamond in the sky.\n",
      "Twinkle, twinkle, little star,\n",
      "\tHow I wonder what you are\n"
     ]
    }
   ],
   "source": [
    "print(\"Twinkle, twinkle, little star,\")\n",
    "print(\"\\tHow I wonder what you are!\")\n",
    "print(\"\\t\\tUp above the world so high,\")\n",
    "print(\"\\t\\tLike a diamond in the sky.\")\n",
    "print(\"Twinkle, twinkle, little star,\")\n",
    "print(\"\\tHow I wonder what you are\")"
   ]
  },
  {
   "cell_type": "markdown",
   "id": "1f0a1b66-434b-4f90-8716-acf5e3aa3c0e",
   "metadata": {},
   "source": [
    "Write a Python program to find out what version of Python you are using."
   ]
  },
  {
   "cell_type": "code",
   "execution_count": 12,
   "id": "9c1b3761-27b1-4e42-84f6-353f89ed1201",
   "metadata": {},
   "outputs": [
    {
     "name": "stdout",
     "output_type": "stream",
     "text": [
      "Python version\n",
      "3.12.7 | packaged by Anaconda, Inc. | (main, Oct  4 2024, 13:17:27) [MSC v.1929 64 bit (AMD64)]\n",
      "Version info.\n",
      "sys.version_info(major=3, minor=12, micro=7, releaselevel='final', serial=0)\n"
     ]
    }
   ],
   "source": [
    "import sys\n",
    "print(\"Python version\")\n",
    "print(sys.version)\n",
    "print(\"Version info.\")\n",
    "print(sys.version_info)"
   ]
  },
  {
   "cell_type": "markdown",
   "id": "68006d15-580a-4792-ad0e-0755803705a0",
   "metadata": {},
   "source": [
    "Write a Python program to display the current date and time."
   ]
  },
  {
   "cell_type": "code",
   "execution_count": 15,
   "id": "d2f62fcb-e0f9-402f-9838-8138727417db",
   "metadata": {},
   "outputs": [
    {
     "name": "stdout",
     "output_type": "stream",
     "text": [
      "Current date and time : \n",
      "2025-05-13 15:35:04\n"
     ]
    }
   ],
   "source": [
    "import datetime\n",
    "now = datetime.datetime.now()\n",
    "print(\"Current date and time : \")\n",
    "print(now.strftime(\"%Y-%m-%d %H:%M:%S\"))"
   ]
  },
  {
   "cell_type": "markdown",
   "id": "84c36281-8db2-497e-8782-1ef5cee4d66d",
   "metadata": {},
   "source": [
    "Write a Python program that calculates the area of a circle based on the radius entered by the user."
   ]
  },
  {
   "cell_type": "code",
   "execution_count": 18,
   "id": "e2401efc-daaf-4904-838e-935d26ff2fa1",
   "metadata": {},
   "outputs": [
    {
     "name": "stdin",
     "output_type": "stream",
     "text": [
      "Input the radius of the circle :  7\n"
     ]
    },
    {
     "name": "stdout",
     "output_type": "stream",
     "text": [
      "The area of the circle with radius 7.0 is: 153.93804002589985\n"
     ]
    }
   ],
   "source": [
    "from math import pi\n",
    "r = float(input(\"Input the radius of the circle : \"))\n",
    "area = pi * r**2\n",
    "print(\"The area of the circle with radius\", r, \"is:\", area)"
   ]
  },
  {
   "cell_type": "markdown",
   "id": "fe239ba4-b7f9-4b01-9f1b-26f23f741af5",
   "metadata": {},
   "source": [
    "Write a Python program that accepts the user's first and last name and prints them in reverse order."
   ]
  },
  {
   "cell_type": "code",
   "execution_count": 21,
   "id": "109f9b07-cbec-4cca-8557-6b8cc340eeed",
   "metadata": {},
   "outputs": [
    {
     "name": "stdin",
     "output_type": "stream",
     "text": [
      "Enter your first name:  yoshva\n",
      "Enter your last name:  j\n"
     ]
    },
    {
     "name": "stdout",
     "output_type": "stream",
     "text": [
      "Reversed Name: j yoshva\n"
     ]
    }
   ],
   "source": [
    "first_name = input(\"Enter your first name: \")\n",
    "last_name = input(\"Enter your last name: \")\n",
    "print(\"Reversed Name:\", last_name, first_name)"
   ]
  },
  {
   "cell_type": "markdown",
   "id": "405d6e7d-4395-4a1d-95e1-aa32d19fdbcc",
   "metadata": {},
   "source": [
    "Write a Python program that accepts a sequence of comma-separated numbers and generates a list and a tuple."
   ]
  },
  {
   "cell_type": "code",
   "execution_count": 25,
   "id": "d7e1a1fa-81bf-4adf-9f6a-8089af5a98f4",
   "metadata": {},
   "outputs": [
    {
     "name": "stdin",
     "output_type": "stream",
     "text": [
      "Input some comma separated numbers:  4,5,6,7,8\n"
     ]
    },
    {
     "name": "stdout",
     "output_type": "stream",
     "text": [
      "List : ['4', '5', '6', '7', '8']\n",
      "Tuple : ('4', '5', '6', '7', '8')\n"
     ]
    }
   ],
   "source": [
    "values = input(\"Input some comma separated numbers: \")\n",
    "list_values = values.split(\",\")\n",
    "tuple_values = tuple(list_values)\n",
    "print('List :', list_values)\n",
    "print('Tuple :', tuple_values)"
   ]
  },
  {
   "cell_type": "markdown",
   "id": "77d420d1-28af-4f44-961c-0ba1b33479e2",
   "metadata": {},
   "source": [
    "Write a Python program that accepts a filename and prints the extension of the file."
   ]
  },
  {
   "cell_type": "code",
   "execution_count": 32,
   "id": "71f0b817-724a-4e8e-a89d-7af2da2cc5f3",
   "metadata": {},
   "outputs": [
    {
     "name": "stdin",
     "output_type": "stream",
     "text": [
      "Input the Filename:  notes.txt\n"
     ]
    },
    {
     "name": "stdout",
     "output_type": "stream",
     "text": [
      "The extension of the file is: txt\n"
     ]
    }
   ],
   "source": [
    "filename = input(\"Input the Filename: \")\n",
    "f_extns = filename.split(\".\")[-1]\n",
    "print(\"The extension of the file is:\", f_extns)"
   ]
  },
  {
   "cell_type": "markdown",
   "id": "3c238a75-465c-4e44-8f0b-9c17ae1c933d",
   "metadata": {},
   "source": [
    " Write a Python program to display the first and last colors from the list."
   ]
  },
  {
   "cell_type": "code",
   "execution_count": 39,
   "id": "a499d23b-44c8-46ff-b1d2-f83197000014",
   "metadata": {},
   "outputs": [
    {
     "name": "stdout",
     "output_type": "stream",
     "text": [
      "First color: White\n",
      "Last color: White\n"
     ]
    }
   ],
   "source": [
    "color_list = [\"Red\", \"Green\", \"White\", \"Black\"]\n",
    "print(\"First color:\", color_list[2])\n",
    "print(\"Last color:\", color_list[-2])"
   ]
  },
  {
   "cell_type": "markdown",
   "id": "dbdfbba9-bc28-425d-97ef-bd9fdc7569bf",
   "metadata": {},
   "source": [
    "Write a Python program to display the examination schedule."
   ]
  },
  {
   "cell_type": "code",
   "execution_count": 42,
   "id": "b9a27470-9631-4417-9339-b09ce6b10c73",
   "metadata": {},
   "outputs": [
    {
     "name": "stdout",
     "output_type": "stream",
     "text": [
      "The examination will start from: 11 / 12 / 2014\n"
     ]
    }
   ],
   "source": [
    "exam_st_date = (11, 12, 2014)\n",
    "print(\"The examination will start from: %i / %i / %i\" % exam_st_date)"
   ]
  },
  {
   "cell_type": "markdown",
   "id": "316e6cff-5d15-4a16-ac03-27c98584cf67",
   "metadata": {},
   "source": [
    " Write a Python program to calculate the value of n+nn+nnn for a given n."
   ]
  },
  {
   "cell_type": "code",
   "execution_count": 49,
   "id": "8a49fcc6-48b5-4220-86ee-46d590f55e72",
   "metadata": {},
   "outputs": [
    {
     "name": "stdin",
     "output_type": "stream",
     "text": [
      "Enter a number:  8\n"
     ]
    },
    {
     "name": "stdout",
     "output_type": "stream",
     "text": [
      "Result: 984\n"
     ]
    }
   ],
   "source": [
    "n = int(input(\"Enter a number: \"))\n",
    "nn = int(str(n) * 2)\n",
    "nnn = int(str(n) * 3)\n",
    "print(\"Result:\", n + nn + nnn)"
   ]
  },
  {
   "cell_type": "markdown",
   "id": "46d46252-2915-407c-b91b-3ff9b8394732",
   "metadata": {},
   "source": [
    "Write a Python program to print documentation of built-in function."
   ]
  },
  {
   "cell_type": "code",
   "execution_count": 57,
   "id": "50d7f574-dacf-4866-9fab-3dce1c7ed8fa",
   "metadata": {},
   "outputs": [
    {
     "name": "stdout",
     "output_type": "stream",
     "text": [
      "Return the absolute value of the argument.\n"
     ]
    }
   ],
   "source": [
    "print(abs.__doc__)"
   ]
  },
  {
   "cell_type": "markdown",
   "id": "4536c5fb-4607-4e59-99eb-6b384abdcd5b",
   "metadata": {},
   "source": [
    "Write a Python program that prints the calendar for a given month and year."
   ]
  },
  {
   "cell_type": "code",
   "execution_count": 60,
   "id": "1d8da2e2-1883-4412-b571-65d596d83f56",
   "metadata": {},
   "outputs": [
    {
     "name": "stdin",
     "output_type": "stream",
     "text": [
      "Input the year:  2003\n",
      "Input the month:  9\n"
     ]
    },
    {
     "name": "stdout",
     "output_type": "stream",
     "text": [
      "   September 2003\n",
      "Mo Tu We Th Fr Sa Su\n",
      " 1  2  3  4  5  6  7\n",
      " 8  9 10 11 12 13 14\n",
      "15 16 17 18 19 20 21\n",
      "22 23 24 25 26 27 28\n",
      "29 30\n",
      "\n"
     ]
    }
   ],
   "source": [
    "import calendar\n",
    "year = int(input(\"Input the year: \"))\n",
    "month = int(input(\"Input the month: \"))\n",
    "print(calendar.month(year, month))"
   ]
  },
  {
   "cell_type": "markdown",
   "id": "855d80be-cff3-405d-85ed-d896d12b985c",
   "metadata": {},
   "source": [
    "Write a Python program to print a multi-line 'here document'."
   ]
  },
  {
   "cell_type": "code",
   "execution_count": 63,
   "id": "257acbdd-ac62-4576-9e42-9e93b6729216",
   "metadata": {},
   "outputs": [
    {
     "name": "stdout",
     "output_type": "stream",
     "text": [
      "\n",
      "a string that you \"don't\" have to escape\n",
      "This\n",
      "is a ....... multi-line\n",
      "heredoc string --------> example\n",
      "\n"
     ]
    }
   ],
   "source": [
    "print(\"\"\"\n",
    "a string that you \"don't\" have to escape\n",
    "This\n",
    "is a ....... multi-line\n",
    "heredoc string --------> example\n",
    "\"\"\")\n"
   ]
  },
  {
   "cell_type": "markdown",
   "id": "3bb73314-6142-4099-9ee0-2d13041ba478",
   "metadata": {},
   "source": [
    "Write a Python program to calculate days between two dates."
   ]
  },
  {
   "cell_type": "code",
   "execution_count": 66,
   "id": "64e949c3-a587-4204-9d60-f85657ec7044",
   "metadata": {},
   "outputs": [
    {
     "name": "stdout",
     "output_type": "stream",
     "text": [
      "Days between: 9\n"
     ]
    }
   ],
   "source": [
    "from datetime import date\n",
    "f_date = date(2014, 7, 2)\n",
    "l_date = date(2014, 7, 11)\n",
    "delta = l_date - f_date\n",
    "print(f\"Days between: {delta.days}\")"
   ]
  },
  {
   "cell_type": "markdown",
   "id": "1429d240-10d4-446a-adf5-a407112eafc6",
   "metadata": {},
   "source": [
    "Write a Python program to get the volume of a sphere with radius 6."
   ]
  },
  {
   "cell_type": "code",
   "execution_count": 69,
   "id": "04c7e4a4-4e3c-4bcd-8906-f7fd4c3a6848",
   "metadata": {},
   "outputs": [
    {
     "name": "stdout",
     "output_type": "stream",
     "text": [
      "Volume of the sphere is: 904.7786842338603\n"
     ]
    }
   ],
   "source": [
    "from math import pi\n",
    "r = 6.0\n",
    "volume = (4.0/3.0) * pi * r**3\n",
    "print(\"Volume of the sphere is:\", volume)"
   ]
  },
  {
   "cell_type": "markdown",
   "id": "78c966c5-ece6-4af6-a728-5dded34e8cb5",
   "metadata": {},
   "source": [
    "Calculate the difference between a given number and 17. If the number is greater than 17, return twice the absolute difference."
   ]
  },
  {
   "cell_type": "code",
   "execution_count": 74,
   "id": "c7941893-f468-4972-8d65-a5a4c6a6d5c2",
   "metadata": {},
   "outputs": [
    {
     "name": "stdout",
     "output_type": "stream",
     "text": [
      "10\n",
      "3\n"
     ]
    }
   ],
   "source": [
    "def diff_17(n):\n",
    "    if n > 17:\n",
    "        return 2 * abs(n - 17)\n",
    "    else:\n",
    "        return 17 - n\n",
    "print(diff_17(22))\n",
    "print(diff_17(14))"
   ]
  },
  {
   "cell_type": "markdown",
   "id": "b637cf57-4f1f-4550-89a9-7592cbf80f7d",
   "metadata": {},
   "source": [
    "Test whether a number is within 100 of 1000 or 2000."
   ]
  },
  {
   "cell_type": "code",
   "execution_count": 77,
   "id": "33751f34-10d6-4848-a594-782a3641a160",
   "metadata": {},
   "outputs": [
    {
     "name": "stdout",
     "output_type": "stream",
     "text": [
      "True\n",
      "True\n",
      "False\n",
      "False\n"
     ]
    }
   ],
   "source": [
    "def near_thousand(n):\n",
    "    return ((abs(1000 - n) <= 100) or (abs(2000 - n) <= 100))\n",
    "\n",
    "print(near_thousand(1000))\n",
    "print(near_thousand(900))\n",
    "print(near_thousand(800))\n",
    "print(near_thousand(2200))"
   ]
  },
  {
   "cell_type": "markdown",
   "id": "c35537d1-409b-4a72-883a-a05be038a95e",
   "metadata": {},
   "source": [
    "Calculate the sum of three numbers. If all are equal, return thrice their sum."
   ]
  },
  {
   "cell_type": "code",
   "execution_count": 91,
   "id": "e6597372-538f-40f6-abdf-a5f44458ecd1",
   "metadata": {},
   "outputs": [
    {
     "name": "stdout",
     "output_type": "stream",
     "text": [
      "8\n",
      "18\n"
     ]
    }
   ],
   "source": [
    "def sum_thrice(x, y, z):\n",
    "    if x == y == z:\n",
    "        return 3 * (x + y + z)\n",
    "    else:\n",
    "        return x + y + z\n",
    "\n",
    "print(sum_thrice(1, 2, 5))\n",
    "print(sum_thrice(2, 2, 2))"
   ]
  },
  {
   "cell_type": "markdown",
   "id": "669b9af6-fef9-4807-abde-68e0bbb178a1",
   "metadata": {},
   "source": [
    "Get a new string with 'Is' added to the front. If it already begins with 'Is', return unchanged."
   ]
  },
  {
   "cell_type": "code",
   "execution_count": 99,
   "id": "78b976f0-572b-4442-971e-108284168f68",
   "metadata": {},
   "outputs": [
    {
     "name": "stdout",
     "output_type": "stream",
     "text": [
      "IsArray\n",
      "IsEmpty\n"
     ]
    }
   ],
   "source": [
    "def new_string(text):\n",
    "    if len(text) >= 2 and text[:2] == \"Is\":\n",
    "        return text\n",
    "    return \"Is\" + text\n",
    "print(new_string(\"Array\"))\n",
    "print(new_string(\"IsEmpty\"))"
   ]
  },
  {
   "cell_type": "markdown",
   "id": "49ffe6d6-b1f8-4a1e-ad7f-8cd92b6cfaf9",
   "metadata": {},
   "source": [
    "Return a string that is n copies of a given string."
   ]
  },
  {
   "cell_type": "code",
   "execution_count": 108,
   "id": "de62b5d8-6e57-4515-986b-aba6e2af5521",
   "metadata": {},
   "outputs": [
    {
     "name": "stdout",
     "output_type": "stream",
     "text": [
      "PythonPython\n",
      "PythonPythonPythonPythonPythonPythonPythonPythonPythonPython\n"
     ]
    }
   ],
   "source": [
    "def larger_string(text, n):\n",
    "    return text * n\n",
    "print(larger_string(\"Python\", 2))\n",
    "print(larger_string(\"Python\",10))"
   ]
  },
  {
   "cell_type": "markdown",
   "id": "29502089-144f-46b7-8f17-20886698443f",
   "metadata": {},
   "source": [
    "Determine whether a number is even or odd."
   ]
  },
  {
   "cell_type": "code",
   "execution_count": 131,
   "id": "6d606af9-9a95-4ab7-b177-cba0545d91a2",
   "metadata": {},
   "outputs": [
    {
     "name": "stdin",
     "output_type": "stream",
     "text": [
      "Enter any number: 2003\n"
     ]
    },
    {
     "name": "stdout",
     "output_type": "stream",
     "text": [
      "The number is odd\n"
     ]
    }
   ],
   "source": [
    "num=int(input(\"Enter any number:\"))\n",
    "if num % 2==0:\n",
    "        print(\"The number is even\")\n",
    "else:\n",
    "    print(\"The number is odd\")"
   ]
  },
  {
   "cell_type": "markdown",
   "id": "5631511c-8dd4-48db-81ae-f76317b0e48f",
   "metadata": {},
   "source": [
    " Count the number 4 in a given list."
   ]
  },
  {
   "cell_type": "code",
   "execution_count": 141,
   "id": "5b47756d-02d1-4e0a-a994-362b25c8b461",
   "metadata": {},
   "outputs": [
    {
     "name": "stdout",
     "output_type": "stream",
     "text": [
      "3\n"
     ]
    }
   ],
   "source": [
    "def list_count_4(nums):\n",
    "    count = 0\n",
    "    for num in nums:\n",
    "        if num == 4:\n",
    "            count += 1\n",
    "    return count\n",
    "print(list_count_4([1, 4, 4,6, 7, 4]))"
   ]
  },
  {
   "cell_type": "markdown",
   "id": "c771e30c-c44b-4664-b2b8-62c516a86657",
   "metadata": {},
   "source": [
    " Test whether a passed letter is a vowel or not."
   ]
  },
  {
   "cell_type": "code",
   "execution_count": 144,
   "id": "0f0a7dd2-481f-4453-87ec-a3a762d63370",
   "metadata": {},
   "outputs": [
    {
     "name": "stdout",
     "output_type": "stream",
     "text": [
      "True\n",
      "False\n"
     ]
    }
   ],
   "source": [
    "def is_vowel(char):\n",
    "    return char.lower() in 'aeiou'\n",
    "\n",
    "print(is_vowel('a'))\n",
    "print(is_vowel('b'))"
   ]
  },
  {
   "cell_type": "markdown",
   "id": "bde88c27-2758-4823-b765-9dfcd43b790e",
   "metadata": {},
   "source": [
    "Check whether a value is contained in a group."
   ]
  },
  {
   "cell_type": "code",
   "execution_count": 149,
   "id": "015f16df-1d26-4987-a5c6-86309e27d543",
   "metadata": {},
   "outputs": [
    {
     "name": "stdout",
     "output_type": "stream",
     "text": [
      "True\n",
      "False\n"
     ]
    }
   ],
   "source": [
    "def is_value_in_group(value, group):\n",
    "    return value in group\n",
    "print(is_value_in_group(3, [1, 5, 8, 3]))\n",
    "print(is_value_in_group(-1, [1, 5, 8, 3]))"
   ]
  },
  {
   "cell_type": "markdown",
   "id": "d268caab-8eb0-455c-896b-47e2c26c495e",
   "metadata": {},
   "source": [
    "Create a histogram from a list of integers."
   ]
  },
  {
   "cell_type": "code",
   "execution_count": 154,
   "id": "1f98edee-8112-469c-b186-05e0baa7df6d",
   "metadata": {},
   "outputs": [
    {
     "name": "stdout",
     "output_type": "stream",
     "text": [
      "**\n",
      "***\n",
      "******\n",
      "*****\n"
     ]
    }
   ],
   "source": [
    "def histogram(items):\n",
    "    for n in items:\n",
    "        print('*' * n)\n",
    "histogram([2, 3, 6, 5])"
   ]
  },
  {
   "cell_type": "code",
   "execution_count": null,
   "id": "016b51f4-f8f6-4f36-8511-8a2de45442c6",
   "metadata": {},
   "outputs": [],
   "source": []
  }
 ],
 "metadata": {
  "kernelspec": {
   "display_name": "Python 3 (ipykernel)",
   "language": "python",
   "name": "python3"
  },
  "language_info": {
   "codemirror_mode": {
    "name": "ipython",
    "version": 3
   },
   "file_extension": ".py",
   "mimetype": "text/x-python",
   "name": "python",
   "nbconvert_exporter": "python",
   "pygments_lexer": "ipython3",
   "version": "3.12.7"
  }
 },
 "nbformat": 4,
 "nbformat_minor": 5
}
