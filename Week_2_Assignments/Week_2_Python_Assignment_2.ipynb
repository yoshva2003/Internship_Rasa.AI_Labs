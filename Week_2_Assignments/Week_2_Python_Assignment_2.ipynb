{
 "cells": [
  {
   "cell_type": "markdown",
   "id": "79ac7778-acee-42f3-bbec-149046ae2c5d",
   "metadata": {},
   "source": [
    "## Level 1"
   ]
  },
  {
   "cell_type": "markdown",
   "id": "4d09bf9e-bb43-41f2-831a-23af33a8821e",
   "metadata": {},
   "source": [
    "## Simple calculator"
   ]
  },
  {
   "cell_type": "code",
   "execution_count": 1,
   "id": "1670bc07-eaa2-4631-897f-b39d5ac9eb90",
   "metadata": {},
   "outputs": [
    {
     "name": "stdin",
     "output_type": "stream",
     "text": [
      "enter number1 5\n",
      "enter number2 56\n"
     ]
    },
    {
     "name": "stdout",
     "output_type": "stream",
     "text": [
      "addition:61\n",
      "subraction:-51\n",
      "multiplication:280\n",
      "division: 0.08928571428571429\n"
     ]
    }
   ],
   "source": [
    "n1=int(input(\"enter number1\"))\n",
    "n2=int(input(\"enter number2\"))\n",
    "def calculator(n1,n2):\n",
    "    print(f\"addition:{n1+n2}\")\n",
    "    print(f\"subraction:{n1-n2}\")\n",
    "    print(f\"multiplication:{n1*n2}\")\n",
    "    print(\"division:\", n1/n2 if n2!=0 else \"no division occur\")\n",
    "calculator(n1,n2)"
   ]
  },
  {
   "cell_type": "markdown",
   "id": "039826e0-fc4b-4b5f-b3f8-8fa7cffa37f3",
   "metadata": {},
   "source": [
    "## even or odd"
   ]
  },
  {
   "cell_type": "code",
   "execution_count": 7,
   "id": "51b79f16-18ea-439e-82c7-36f1da2fec9c",
   "metadata": {},
   "outputs": [
    {
     "name": "stdin",
     "output_type": "stream",
     "text": [
      "enter a number 5\n"
     ]
    },
    {
     "name": "stdout",
     "output_type": "stream",
     "text": [
      "Given number is not even\n"
     ]
    }
   ],
   "source": [
    "n=int(input(\"enter a number\"))\n",
    "\n",
    "if n%2==0:\n",
    "    print(\"Given number is even\")\n",
    "else:\n",
    "      print(\"Given number is not even\")"
   ]
  },
  {
   "cell_type": "markdown",
   "id": "72e772e9-5f8a-43ec-9a85-5321cf32971f",
   "metadata": {},
   "source": [
    "## voting eligibility"
   ]
  },
  {
   "cell_type": "code",
   "execution_count": 12,
   "id": "d2f28778-b037-4306-b24e-5da7a353b9b7",
   "metadata": {},
   "outputs": [
    {
     "name": "stdin",
     "output_type": "stream",
     "text": [
      "enter your age 21\n"
     ]
    },
    {
     "name": "stdout",
     "output_type": "stream",
     "text": [
      "Your are eligible to vote\n"
     ]
    }
   ],
   "source": [
    "age=int(input(\"enter your age\"))\n",
    "if age<18:\n",
    "    print(\"Your are not eligible to vote\")\n",
    "else:\n",
    "    print(\"Your are eligible to vote\")"
   ]
  },
  {
   "cell_type": "markdown",
   "id": "ef453c86-0a91-4151-a2b0-d59aa82860d4",
   "metadata": {},
   "source": [
    "## swap variables"
   ]
  },
  {
   "cell_type": "code",
   "execution_count": 5,
   "id": "06c4c6c4-c472-4140-bb4b-74f55427c6dc",
   "metadata": {},
   "outputs": [
    {
     "name": "stdin",
     "output_type": "stream",
     "text": [
      "enter a number 45\n",
      "enter a number 56\n"
     ]
    },
    {
     "name": "stdout",
     "output_type": "stream",
     "text": [
      "after using swap third variables: 56 45\n",
      "after without using swap third variables: 45 56\n"
     ]
    }
   ],
   "source": [
    "a=int(input(\"enter a number\"))\n",
    "b=int(input(\"enter a number\"))\n",
    "\n",
    "temp=a\n",
    "a=b\n",
    "b=temp\n",
    "print(\"after using swap third variables:\",a,b)\n",
    "\n",
    "a,b=b,a\n",
    "print(\"after without using swap third variables:\",a,b)"
   ]
  },
  {
   "cell_type": "markdown",
   "id": "bce71a46-6665-4461-9496-f051af0c29d0",
   "metadata": {},
   "source": [
    "# Level 2"
   ]
  },
  {
   "cell_type": "markdown",
   "id": "3e8860ca-a115-46fb-bb18-c73f1ebe44ba",
   "metadata": {},
   "source": [
    "## multiplication table"
   ]
  },
  {
   "cell_type": "code",
   "execution_count": 8,
   "id": "88ce66c2-4499-4bc8-8dec-6251b17012d2",
   "metadata": {},
   "outputs": [
    {
     "name": "stdin",
     "output_type": "stream",
     "text": [
      "enter a number 8\n"
     ]
    },
    {
     "name": "stdout",
     "output_type": "stream",
     "text": [
      "8 * 1 is 8\n",
      "8 * 2 is 16\n",
      "8 * 3 is 24\n",
      "8 * 4 is 32\n",
      "8 * 5 is 40\n",
      "8 * 6 is 48\n",
      "8 * 7 is 56\n",
      "8 * 8 is 64\n",
      "8 * 9 is 72\n",
      "8 * 10 is 80\n"
     ]
    }
   ],
   "source": [
    "n=int(input(\"enter a number\"))\n",
    "for i in range(1,11):\n",
    "    print(f\"{n} * {i} is {n*i}\")"
   ]
  },
  {
   "cell_type": "markdown",
   "id": "ce2a4808-6dd7-4fd5-9e1c-3c115b27d331",
   "metadata": {},
   "source": [
    "## prime number checker"
   ]
  },
  {
   "cell_type": "code",
   "execution_count": 10,
   "id": "702dd70f-6f78-4f6e-8023-a36b439dc685",
   "metadata": {},
   "outputs": [
    {
     "name": "stdout",
     "output_type": "stream",
     "text": [
      "False\n"
     ]
    }
   ],
   "source": [
    "def is_prime(n):\n",
    "    if n<=1:\n",
    "        return False\n",
    "    for i in range(2,int(n**0.5)+1):\n",
    "        if n%i==0:\n",
    "            return False\n",
    "    return True\n",
    "\n",
    "print(is_prime(6))"
   ]
  },
  {
   "cell_type": "markdown",
   "id": "9cb60f2c-2d3f-4810-a212-b04fa27facee",
   "metadata": {},
   "source": [
    "## factorial calculation"
   ]
  },
  {
   "cell_type": "code",
   "execution_count": 12,
   "id": "435363fa-ee8e-457f-bb4b-4bdf2cadecd2",
   "metadata": {},
   "outputs": [
    {
     "name": "stdin",
     "output_type": "stream",
     "text": [
      "enter a number 8\n"
     ]
    },
    {
     "name": "stdout",
     "output_type": "stream",
     "text": [
      "40320\n"
     ]
    }
   ],
   "source": [
    "n=int(input(\"enter a number\"))\n",
    "\n",
    "def fact(n):\n",
    "    if n==1 or n==0:\n",
    "        return 1\n",
    "    else:\n",
    "        return n*fact(n-1)\n",
    "print(fact(n))"
   ]
  },
  {
   "cell_type": "markdown",
   "id": "ac54395f-b7e2-477a-8bb7-5274ecd0ae32",
   "metadata": {},
   "source": [
    "## fibonacci series"
   ]
  },
  {
   "cell_type": "code",
   "execution_count": 14,
   "id": "5741f23f-4c99-45ed-8207-b238d94a2785",
   "metadata": {},
   "outputs": [
    {
     "name": "stdin",
     "output_type": "stream",
     "text": [
      "enter a number: 8\n"
     ]
    },
    {
     "name": "stdout",
     "output_type": "stream",
     "text": [
      "0 1 1 2 3 5 8 13 "
     ]
    }
   ],
   "source": [
    "def fibonacci(n):\n",
    "    count=0\n",
    "    a,b=0,1\n",
    "    \n",
    "    while count<n:\n",
    "        print(a,end=\" \")\n",
    "        a,b=b,a+b\n",
    "        count+=1\n",
    "n=int(input(\"enter a number:\"))\n",
    "fibonacci(n)"
   ]
  },
  {
   "cell_type": "markdown",
   "id": "d5bcc246-4e5e-4d7c-ba73-8d856d5b9ad0",
   "metadata": {},
   "source": [
    "# Level 3"
   ]
  },
  {
   "cell_type": "markdown",
   "id": "c685a830-2d63-422f-ba92-ba9b5990fa60",
   "metadata": {},
   "source": [
    "## palindrome checker"
   ]
  },
  {
   "cell_type": "code",
   "execution_count": 26,
   "id": "9e20f848-5e05-4d4b-8a17-306b7d1021da",
   "metadata": {},
   "outputs": [
    {
     "name": "stdin",
     "output_type": "stream",
     "text": [
      "enter a string: slils\n"
     ]
    },
    {
     "name": "stdout",
     "output_type": "stream",
     "text": [
      "given text is palidrome\n"
     ]
    }
   ],
   "source": [
    "text=str(input(\"enter a string:\")).lower()\n",
    "\n",
    "if text==text[::-1]:\n",
    "    print(\"given text is palidrome\")\n",
    "else:\n",
    "    print(\"no\")"
   ]
  },
  {
   "cell_type": "markdown",
   "id": "338144bc-6ccc-4aa1-bf6b-c9c602cf735c",
   "metadata": {},
   "source": [
    "## word frequency checker"
   ]
  },
  {
   "cell_type": "code",
   "execution_count": 28,
   "id": "54a2814e-cdd0-42de-8d20-c0a60d99f7b2",
   "metadata": {},
   "outputs": [
    {
     "name": "stdin",
     "output_type": "stream",
     "text": [
      "enter the sentence: Yoshva is an handsome person\n"
     ]
    },
    {
     "name": "stdout",
     "output_type": "stream",
     "text": [
      "{'Yoshva': 1, 'is': 1, 'an': 1, 'handsome': 1, 'person': 1}\n"
     ]
    }
   ],
   "source": [
    "sentence=str(input(\"enter the sentence:\"))\n",
    "words=sentence.split()\n",
    "freq={}\n",
    "for i in words:\n",
    "    if i in freq:\n",
    "        freq[i]+=1\n",
    "    else:\n",
    "        freq[i]=1\n",
    "print(freq)"
   ]
  },
  {
   "cell_type": "markdown",
   "id": "7435e5cc-c149-42dd-a8cd-545439035aca",
   "metadata": {},
   "source": [
    "# Level 4"
   ]
  },
  {
   "cell_type": "markdown",
   "id": "bdf692c7-48f6-43ed-9a6e-538957fb2aeb",
   "metadata": {},
   "source": [
    "## text file read/write"
   ]
  },
  {
   "cell_type": "code",
   "execution_count": 30,
   "id": "be4cffb4-ef8d-48b6-acc2-5eef16a922ca",
   "metadata": {},
   "outputs": [
    {
     "name": "stdout",
     "output_type": "stream",
     "text": [
      "contents are Hlo all!.\n",
      "Welcome to Rasa.Al labs.\n",
      "We are doing our internship based on generativeAI.\n",
      "We are in second week going learn about generativeAI tools and Python.\n",
      "Thank you.\n",
      "\n"
     ]
    }
   ],
   "source": [
    "file=\"notes.txt\"\n",
    "with open(file,'r') as file:\n",
    "    text=file.read()\n",
    "    print(\"contents are\",text)"
   ]
  },
  {
   "cell_type": "markdown",
   "id": "1bd348ac-004c-4326-9ea8-778d3be155f7",
   "metadata": {},
   "source": [
    "## exception handling"
   ]
  },
  {
   "cell_type": "code",
   "execution_count": 32,
   "id": "3a818ccc-2dc9-438a-815c-8af3afe4f109",
   "metadata": {},
   "outputs": [
    {
     "name": "stdin",
     "output_type": "stream",
     "text": [
      "enter a number: 8\n",
      "enter another number: 2\n"
     ]
    },
    {
     "name": "stdout",
     "output_type": "stream",
     "text": [
      "4.0\n"
     ]
    }
   ],
   "source": [
    "try:\n",
    "    f1=float(input(\"enter a number:\"))\n",
    "    f2=float(input(\"enter another number:\"))\n",
    "    result=f1/f2\n",
    "    print(result)\n",
    "except ZeroDivisionError:\n",
    "     print(\"Error: Cannot divide by zero.\")\n",
    "except ValueError:\n",
    "    print(\"Invalid input. Please enter numbers.\")"
   ]
  },
  {
   "cell_type": "markdown",
   "id": "1ad8e48b-517c-4503-b981-096fa8933d29",
   "metadata": {},
   "source": [
    "# Level 5"
   ]
  },
  {
   "cell_type": "markdown",
   "id": "832ffaee-5a2c-4fde-8b7f-7c2de65a272a",
   "metadata": {},
   "source": [
    "## bank account class"
   ]
  },
  {
   "cell_type": "code",
   "execution_count": 34,
   "id": "006b8838-369d-4b62-8d45-c0cbbe4f1fb2",
   "metadata": {},
   "outputs": [
    {
     "name": "stdout",
     "output_type": "stream",
     "text": [
      "Account balance: ₹1300\n"
     ]
    }
   ],
   "source": [
    "class BankAccount:\n",
    "    def __init__(self, owner, balance=0):\n",
    "        self.owner = owner\n",
    "        self.balance = balance\n",
    "    def deposit(self, amount):\n",
    "        self.balance += amount\n",
    "    def withdraw(self, amount):\n",
    "        if amount <= self.balance:\n",
    "            self.balance -= amount\n",
    "        else:\n",
    "            print(\"Insufficient balance\")\n",
    "    def show_balance(self):\n",
    "        print(f\"Account balance: ₹{self.balance}\")\n",
    "acc = BankAccount(\"Alice\", 1000)\n",
    "acc.deposit(500)\n",
    "acc.withdraw(200)\n",
    "acc.show_balance()"
   ]
  },
  {
   "cell_type": "code",
   "execution_count": null,
   "id": "4574f6b1-bc87-4f8f-8046-24a5d1110059",
   "metadata": {},
   "outputs": [],
   "source": []
  }
 ],
 "metadata": {
  "kernelspec": {
   "display_name": "Python 3 (ipykernel)",
   "language": "python",
   "name": "python3"
  },
  "language_info": {
   "codemirror_mode": {
    "name": "ipython",
    "version": 3
   },
   "file_extension": ".py",
   "mimetype": "text/x-python",
   "name": "python",
   "nbconvert_exporter": "python",
   "pygments_lexer": "ipython3",
   "version": "3.12.7"
  }
 },
 "nbformat": 4,
 "nbformat_minor": 5
}
