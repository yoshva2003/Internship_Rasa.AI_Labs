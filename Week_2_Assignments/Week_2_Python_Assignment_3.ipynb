{
 "cells": [
  {
   "cell_type": "markdown",
   "id": "012fd57e-7ade-44e0-8d42-6d0fe8e7ba8d",
   "metadata": {},
   "source": [
    "## Right-Angled Half Pyramid of Stars"
   ]
  },
  {
   "cell_type": "code",
   "execution_count": 1,
   "id": "eae664ac-3b3b-4284-980f-ecd91dd6b44c",
   "metadata": {},
   "outputs": [
    {
     "name": "stdin",
     "output_type": "stream",
     "text": [
      "enter a number: 8\n"
     ]
    },
    {
     "name": "stdout",
     "output_type": "stream",
     "text": [
      "*\n",
      "**\n",
      "***\n",
      "****\n",
      "*****\n",
      "******\n",
      "*******\n",
      "********\n"
     ]
    }
   ],
   "source": [
    "n=int(input(\"enter a number:\"))\n",
    "for i in range(1,n+1):\n",
    "    print(\"*\"*i)"
   ]
  },
  {
   "cell_type": "markdown",
   "id": "90c439bc-b0f3-40d4-913c-35b6ea300f11",
   "metadata": {},
   "source": [
    "## Inverted Half Pyramid"
   ]
  },
  {
   "cell_type": "code",
   "execution_count": 10,
   "id": "d47a466d-8e0a-447c-b3f4-b72bffeb6447",
   "metadata": {},
   "outputs": [
    {
     "name": "stdin",
     "output_type": "stream",
     "text": [
      "enter a number: 5\n"
     ]
    },
    {
     "name": "stdout",
     "output_type": "stream",
     "text": [
      "*****\n",
      "****\n",
      "***\n",
      "**\n",
      "*\n"
     ]
    }
   ],
   "source": [
    "n=int(input(\"enter a number:\"))\n",
    "for i in range(i,0,-1):\n",
    "    print(\"*\"*i)"
   ]
  },
  {
   "cell_type": "markdown",
   "id": "be72aeb4-90f1-48cc-a2a8-d41be4121970",
   "metadata": {},
   "source": [
    "## Right-Aligned Half Pyramid"
   ]
  },
  {
   "cell_type": "code",
   "execution_count": 3,
   "id": "a7f3d90f-a32d-48b3-93b0-f8a02d3ce0aa",
   "metadata": {},
   "outputs": [
    {
     "name": "stdin",
     "output_type": "stream",
     "text": [
      "enter a number: 8\n"
     ]
    },
    {
     "name": "stdout",
     "output_type": "stream",
     "text": [
      "       *\n",
      "      **\n",
      "     ***\n",
      "    ****\n",
      "   *****\n",
      "  ******\n",
      " *******\n",
      "********\n"
     ]
    }
   ],
   "source": [
    "n=int(input(\"enter a number:\"))\n",
    "for i in range(1,n+1):\n",
    "    print(\" \"*(n-i)+\"*\"*i)"
   ]
  },
  {
   "cell_type": "markdown",
   "id": "9b4de951-f966-44b7-8fa0-f6c07d2e39ac",
   "metadata": {},
   "source": [
    "## Full pyramid"
   ]
  },
  {
   "cell_type": "code",
   "execution_count": 5,
   "id": "2ad12729-b7c4-4ef9-8a13-cd93a67f2614",
   "metadata": {
    "scrolled": true
   },
   "outputs": [
    {
     "name": "stdin",
     "output_type": "stream",
     "text": [
      "enter a number: 8\n"
     ]
    },
    {
     "name": "stdout",
     "output_type": "stream",
     "text": [
      "       *\n",
      "      ***\n",
      "     *****\n",
      "    *******\n",
      "   *********\n",
      "  ***********\n",
      " *************\n",
      "***************\n"
     ]
    }
   ],
   "source": [
    "n=int(input(\"enter a number:\"))\n",
    "for i in range(n):\n",
    "    print(\" \"*(n-i-1)+\"*\"*(2*i+1))"
   ]
  },
  {
   "cell_type": "markdown",
   "id": "46ec96f8-5e65-4738-8db8-0297b4fd8b24",
   "metadata": {},
   "source": [
    "## Hollow pyramid"
   ]
  },
  {
   "cell_type": "code",
   "execution_count": 7,
   "id": "13b6c68c-476f-4a74-ac1f-8c7284dc3dd5",
   "metadata": {},
   "outputs": [
    {
     "name": "stdin",
     "output_type": "stream",
     "text": [
      "enter a number: 8\n"
     ]
    },
    {
     "name": "stdout",
     "output_type": "stream",
     "text": [
      "              * \n",
      "            *   * \n",
      "          *       * \n",
      "        *           * \n",
      "      *               * \n",
      "    *                   * \n",
      "  *                       * \n",
      "* * * * * * * * * * * * * * * \n"
     ]
    }
   ],
   "source": [
    "n=int(input(\"enter a number:\"))\n",
    "for i in range(n):\n",
    "    for j in range(n-i-1):\n",
    "        print(\" \",end=\" \")\n",
    "    for k in range(2*i+1):\n",
    "        if k==0 or k==2*i or i==n-1:\n",
    "            print(\"*\",end=\" \")\n",
    "        else:\n",
    "            print(\" \",end=\" \")\n",
    "    print()"
   ]
  },
  {
   "cell_type": "markdown",
   "id": "e34e86d4-dd9a-443d-bb5b-866a41ca6fc8",
   "metadata": {},
   "source": [
    "## diamond pyramid"
   ]
  },
  {
   "cell_type": "code",
   "execution_count": 9,
   "id": "686c2545-9b8b-44f3-be9e-95bb05c68b72",
   "metadata": {},
   "outputs": [
    {
     "name": "stdin",
     "output_type": "stream",
     "text": [
      "enter a number: 8\n"
     ]
    },
    {
     "name": "stdout",
     "output_type": "stream",
     "text": [
      "       * \n",
      "      * * \n",
      "     * * * \n",
      "    * * * * \n",
      "   * * * * * \n",
      "  * * * * * * \n",
      " * * * * * * * \n",
      "* * * * * * * * \n",
      " * * * * * * * \n",
      "  * * * * * * \n",
      "   * * * * * \n",
      "    * * * * \n",
      "     * * * \n",
      "      * * \n",
      "       * \n"
     ]
    }
   ],
   "source": [
    "n=int(input(\"enter a number:\"))\n",
    "for i in range(1,n+1):\n",
    "    print(\" \"*(n-i)+\"* \"*i)\n",
    "for i in range(n-1,0,-1):\n",
    "    print(\" \"*(n-i)+\"* \"*i)"
   ]
  },
  {
   "cell_type": "markdown",
   "id": "f42cb283-f166-4795-a5a1-5d19ad751be3",
   "metadata": {},
   "source": [
    "## number half pyramid"
   ]
  },
  {
   "cell_type": "code",
   "execution_count": 11,
   "id": "047dbcd9-d757-4942-87f2-ee4f570eff83",
   "metadata": {},
   "outputs": [
    {
     "name": "stdin",
     "output_type": "stream",
     "text": [
      "enter number of rows: 8\n"
     ]
    },
    {
     "name": "stdout",
     "output_type": "stream",
     "text": [
      "1 \n",
      "1 2 \n",
      "1 2 3 \n",
      "1 2 3 4 \n",
      "1 2 3 4 5 \n",
      "1 2 3 4 5 6 \n",
      "1 2 3 4 5 6 7 \n",
      "1 2 3 4 5 6 7 8 \n"
     ]
    }
   ],
   "source": [
    "n=int(input(\"enter number of rows:\"))\n",
    "for i in range(1,n+1):\n",
    "    for j in range(1,i+1):\n",
    "        print(j,end=\" \")\n",
    "    print()"
   ]
  },
  {
   "cell_type": "code",
   "execution_count": null,
   "id": "d6fb3c93-9f1a-4657-ba93-5cc926e54e70",
   "metadata": {},
   "outputs": [],
   "source": []
  }
 ],
 "metadata": {
  "kernelspec": {
   "display_name": "Python 3 (ipykernel)",
   "language": "python",
   "name": "python3"
  },
  "language_info": {
   "codemirror_mode": {
    "name": "ipython",
    "version": 3
   },
   "file_extension": ".py",
   "mimetype": "text/x-python",
   "name": "python",
   "nbconvert_exporter": "python",
   "pygments_lexer": "ipython3",
   "version": "3.12.7"
  }
 },
 "nbformat": 4,
 "nbformat_minor": 5
}
