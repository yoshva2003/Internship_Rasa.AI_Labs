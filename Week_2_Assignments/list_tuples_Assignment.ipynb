{
 "cells": [
  {
   "cell_type": "code",
   "execution_count": null,
   "id": "3f905514-70d8-4b82-b302-e9256b553dbe",
   "metadata": {},
   "outputs": [],
   "source": [
    "#creating a list of list"
   ]
  },
  {
   "cell_type": "code",
   "execution_count": 2,
   "id": "cf014828-f79d-46a8-993f-41693dd78581",
   "metadata": {},
   "outputs": [
    {
     "name": "stdout",
     "output_type": "stream",
     "text": [
      "[['name', ['A', 'B', 'C', 'D', 'E']], ['Ankit', [41, 34, 45, 55, 63]], ['Aravind', [42, 23, 34, 44, 53]], ['Lakshay', [32, 23, 13, 54, 67]], ['gyan', [23, 82, 23, 63, 34]], ['Pranav', [21, 23, 25, 56, 56]]]\n"
     ]
    }
   ],
   "source": [
    "student_marks=[['name',['A','B','C','D','E']],\n",
    "               ['Ankit',[41,34,45,55,63]],\n",
    "               ['Aravind',[42,23,34,44,53]],\n",
    "               ['Lakshay',[32,23,13,54,67]],\n",
    "               ['gyan',[23,82,23,63,34]],\n",
    "               ['Pranav',[21,23,25,56,56]]]\n",
    "print(student_marks)"
   ]
  },
  {
   "cell_type": "code",
   "execution_count": null,
   "id": "b726fd7c-41a1-4f73-9db1-04f399ad017a",
   "metadata": {},
   "outputs": [],
   "source": [
    "#To find a highest mark of B subject"
   ]
  },
  {
   "cell_type": "code",
   "execution_count": 4,
   "id": "4190eff7-7cef-4395-8cc9-5a657d8b2f1f",
   "metadata": {},
   "outputs": [
    {
     "name": "stdout",
     "output_type": "stream",
     "text": [
      "Highest mark in subject B: 82\n"
     ]
    }
   ],
   "source": [
    "highest_b_mark=max(student[1][1]\n",
    "for student in student_marks[1:])\n",
    "print(\"Highest mark in subject B:\",highest_b_mark)"
   ]
  },
  {
   "cell_type": "code",
   "execution_count": null,
   "id": "50965e27-a128-4bfb-aaed-093bbf5eafa9",
   "metadata": {},
   "outputs": [],
   "source": [
    "#To find the average mark of C subjects"
   ]
  },
  {
   "cell_type": "code",
   "execution_count": 6,
   "id": "5b353a38-9aa2-45a2-aae9-a37ffc9ef41c",
   "metadata": {},
   "outputs": [
    {
     "name": "stdout",
     "output_type": "stream",
     "text": [
      "Average marks in subject C: 28.0\n"
     ]
    }
   ],
   "source": [
    "average_c=sum(student[1][2]\n",
    "for student in student_marks[1:])/len(student_marks[1:])\n",
    "print(\"Average marks in subject C:\",average_c)"
   ]
  },
  {
   "cell_type": "code",
   "execution_count": null,
   "id": "19749bb6-032d-489e-b1c9-a81d7f381648",
   "metadata": {},
   "outputs": [],
   "source": [
    "#Highest percentage person in subjects"
   ]
  },
  {
   "cell_type": "code",
   "execution_count": 8,
   "id": "f24e8567-6daa-4e5b-9f94-41f7d66e1b5c",
   "metadata": {},
   "outputs": [
    {
     "data": {
      "text/plain": [
       "('Ankit', 47.599999999999994)"
      ]
     },
     "execution_count": 8,
     "metadata": {},
     "output_type": "execute_result"
    }
   ],
   "source": [
    "# Total marks possible\n",
    "total_subjects=len(student_marks[0][1])\n",
    "total_possible_marks=total_subjects * 100\n",
    "\n",
    "# Find the highest percentage\n",
    "highest_percentage = 0\n",
    "topper = ''\n",
    "\n",
    "for student in student_marks[1:]:\n",
    "    name, marks = student\n",
    "    total = sum(marks)\n",
    "    percentage = (total / total_possible_marks) * 100\n",
    "    if percentage > highest_percentage:\n",
    "        highest_percentage = percentage\n",
    "        topper = name\n",
    "\n",
    "topper,highest_percentage"
   ]
  },
  {
   "cell_type": "code",
   "execution_count": null,
   "id": "9ee534a9-9f67-4874-bec7-17985a66a65f",
   "metadata": {},
   "outputs": [],
   "source": [
    "# To find the top 4 subjects and find the percentage of persons"
   ]
  },
  {
   "cell_type": "code",
   "execution_count": 10,
   "id": "bf72ca4c-be6b-4477-ba4c-3d8abdd7d1cb",
   "metadata": {},
   "outputs": [
    {
     "name": "stdout",
     "output_type": "stream",
     "text": [
      "Highest Percentage (Top 4 subjects): 51.00% scored by Ankit\n"
     ]
    }
   ],
   "source": [
    "top_student = max(student_marks[1:], key=lambda s: sum(sorted(s[1], reverse=True)[:4]))\n",
    "percentage = (sum(sorted(top_student[1], reverse=True)[:4]) / (4 * 100)) * 100\n",
    "print(f\"Highest Percentage (Top 4 subjects): {percentage:.2f}% scored by {top_student[0]}\")"
   ]
  },
  {
   "cell_type": "code",
   "execution_count": null,
   "id": "22914aa6-8c25-48a3-89ab-c177fc701d7f",
   "metadata": {},
   "outputs": [],
   "source": []
  }
 ],
 "metadata": {
  "kernelspec": {
   "display_name": "Python 3 (ipykernel)",
   "language": "python",
   "name": "python3"
  },
  "language_info": {
   "codemirror_mode": {
    "name": "ipython",
    "version": 3
   },
   "file_extension": ".py",
   "mimetype": "text/x-python",
   "name": "python",
   "nbconvert_exporter": "python",
   "pygments_lexer": "ipython3",
   "version": "3.12.7"
  }
 },
 "nbformat": 4,
 "nbformat_minor": 5
}
