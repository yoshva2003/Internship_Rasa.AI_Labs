{
 "cells": [
  {
   "cell_type": "markdown",
   "id": "dfed02af-8393-4bb5-b29b-d45b863b45bb",
   "metadata": {},
   "source": [
    "## Load all files (CSV, JSON)"
   ]
  },
  {
   "cell_type": "code",
   "execution_count": 26,
   "id": "5ab3f8cb-82e0-425d-a07b-7d35779ccde1",
   "metadata": {},
   "outputs": [],
   "source": [
    "import pandas as pd"
   ]
  },
  {
   "cell_type": "code",
   "execution_count": 45,
   "id": "fa92ed88-f973-4253-a075-613078f4f029",
   "metadata": {},
   "outputs": [],
   "source": [
    "df=pd.read_csv('big_mart_sales.csv')"
   ]
  },
  {
   "cell_type": "code",
   "execution_count": 47,
   "id": "6320e2bb-df43-4909-9ab4-1950390836a0",
   "metadata": {},
   "outputs": [
    {
     "data": {
      "text/html": [
       "<div>\n",
       "<style scoped>\n",
       "    .dataframe tbody tr th:only-of-type {\n",
       "        vertical-align: middle;\n",
       "    }\n",
       "\n",
       "    .dataframe tbody tr th {\n",
       "        vertical-align: top;\n",
       "    }\n",
       "\n",
       "    .dataframe thead th {\n",
       "        text-align: right;\n",
       "    }\n",
       "</style>\n",
       "<table border=\"1\" class=\"dataframe\">\n",
       "  <thead>\n",
       "    <tr style=\"text-align: right;\">\n",
       "      <th></th>\n",
       "      <th>Item_Identifier</th>\n",
       "      <th>Item_Weight</th>\n",
       "      <th>Item_Fat_Content</th>\n",
       "      <th>Item_Visibility</th>\n",
       "      <th>Item_Type</th>\n",
       "      <th>Item_MRP</th>\n",
       "      <th>Outlet_Identifier</th>\n",
       "      <th>Outlet_Establishment_Year</th>\n",
       "      <th>Outlet_Size</th>\n",
       "      <th>Outlet_Location_Type</th>\n",
       "      <th>Outlet_Type</th>\n",
       "      <th>Item_Outlet_Sales</th>\n",
       "    </tr>\n",
       "  </thead>\n",
       "  <tbody>\n",
       "    <tr>\n",
       "      <th>0</th>\n",
       "      <td>FDA15</td>\n",
       "      <td>9.30</td>\n",
       "      <td>Low Fat</td>\n",
       "      <td>0.016047</td>\n",
       "      <td>Dairy</td>\n",
       "      <td>249.8092</td>\n",
       "      <td>OUT049</td>\n",
       "      <td>1999</td>\n",
       "      <td>Medium</td>\n",
       "      <td>Tier 1</td>\n",
       "      <td>Supermarket Type1</td>\n",
       "      <td>3735.1380</td>\n",
       "    </tr>\n",
       "    <tr>\n",
       "      <th>1</th>\n",
       "      <td>DRC01</td>\n",
       "      <td>5.92</td>\n",
       "      <td>Regular</td>\n",
       "      <td>0.019278</td>\n",
       "      <td>Soft Drinks</td>\n",
       "      <td>48.2692</td>\n",
       "      <td>OUT018</td>\n",
       "      <td>2009</td>\n",
       "      <td>Medium</td>\n",
       "      <td>Tier 3</td>\n",
       "      <td>Supermarket Type2</td>\n",
       "      <td>443.4228</td>\n",
       "    </tr>\n",
       "    <tr>\n",
       "      <th>2</th>\n",
       "      <td>FDN15</td>\n",
       "      <td>17.50</td>\n",
       "      <td>Low Fat</td>\n",
       "      <td>0.016760</td>\n",
       "      <td>Meat</td>\n",
       "      <td>141.6180</td>\n",
       "      <td>OUT049</td>\n",
       "      <td>1999</td>\n",
       "      <td>Medium</td>\n",
       "      <td>Tier 1</td>\n",
       "      <td>Supermarket Type1</td>\n",
       "      <td>2097.2700</td>\n",
       "    </tr>\n",
       "    <tr>\n",
       "      <th>3</th>\n",
       "      <td>FDX07</td>\n",
       "      <td>19.20</td>\n",
       "      <td>Regular</td>\n",
       "      <td>0.000000</td>\n",
       "      <td>Fruits and Vegetables</td>\n",
       "      <td>182.0950</td>\n",
       "      <td>OUT010</td>\n",
       "      <td>1998</td>\n",
       "      <td>NaN</td>\n",
       "      <td>Tier 3</td>\n",
       "      <td>Grocery Store</td>\n",
       "      <td>732.3800</td>\n",
       "    </tr>\n",
       "    <tr>\n",
       "      <th>4</th>\n",
       "      <td>NCD19</td>\n",
       "      <td>8.93</td>\n",
       "      <td>Low Fat</td>\n",
       "      <td>0.000000</td>\n",
       "      <td>Household</td>\n",
       "      <td>53.8614</td>\n",
       "      <td>OUT013</td>\n",
       "      <td>1987</td>\n",
       "      <td>High</td>\n",
       "      <td>Tier 3</td>\n",
       "      <td>Supermarket Type1</td>\n",
       "      <td>994.7052</td>\n",
       "    </tr>\n",
       "  </tbody>\n",
       "</table>\n",
       "</div>"
      ],
      "text/plain": [
       "  Item_Identifier  Item_Weight Item_Fat_Content  Item_Visibility  \\\n",
       "0           FDA15         9.30          Low Fat         0.016047   \n",
       "1           DRC01         5.92          Regular         0.019278   \n",
       "2           FDN15        17.50          Low Fat         0.016760   \n",
       "3           FDX07        19.20          Regular         0.000000   \n",
       "4           NCD19         8.93          Low Fat         0.000000   \n",
       "\n",
       "               Item_Type  Item_MRP Outlet_Identifier  \\\n",
       "0                  Dairy  249.8092            OUT049   \n",
       "1            Soft Drinks   48.2692            OUT018   \n",
       "2                   Meat  141.6180            OUT049   \n",
       "3  Fruits and Vegetables  182.0950            OUT010   \n",
       "4              Household   53.8614            OUT013   \n",
       "\n",
       "   Outlet_Establishment_Year Outlet_Size Outlet_Location_Type  \\\n",
       "0                       1999      Medium               Tier 1   \n",
       "1                       2009      Medium               Tier 3   \n",
       "2                       1999      Medium               Tier 1   \n",
       "3                       1998         NaN               Tier 3   \n",
       "4                       1987        High               Tier 3   \n",
       "\n",
       "         Outlet_Type  Item_Outlet_Sales  \n",
       "0  Supermarket Type1          3735.1380  \n",
       "1  Supermarket Type2           443.4228  \n",
       "2  Supermarket Type1          2097.2700  \n",
       "3      Grocery Store           732.3800  \n",
       "4  Supermarket Type1           994.7052  "
      ]
     },
     "execution_count": 47,
     "metadata": {},
     "output_type": "execute_result"
    }
   ],
   "source": [
    "df.head()"
   ]
  },
  {
   "cell_type": "code",
   "execution_count": 49,
   "id": "1dec8ea6-f9f3-4db8-90b3-051a7e5d66c7",
   "metadata": {},
   "outputs": [
    {
     "data": {
      "text/plain": [
       "Item_Identifier                 0\n",
       "Item_Weight                  1463\n",
       "Item_Fat_Content                0\n",
       "Item_Visibility                 0\n",
       "Item_Type                       0\n",
       "Item_MRP                        0\n",
       "Outlet_Identifier               0\n",
       "Outlet_Establishment_Year       0\n",
       "Outlet_Size                  2410\n",
       "Outlet_Location_Type            0\n",
       "Outlet_Type                     0\n",
       "Item_Outlet_Sales               0\n",
       "dtype: int64"
      ]
     },
     "execution_count": 49,
     "metadata": {},
     "output_type": "execute_result"
    }
   ],
   "source": [
    "df.isnull().sum()"
   ]
  },
  {
   "cell_type": "code",
   "execution_count": 51,
   "id": "30e57507-5a29-41b1-9ffa-4ecb872055ef",
   "metadata": {},
   "outputs": [
    {
     "data": {
      "text/plain": [
       "Index(['Item_Identifier', 'Item_Weight', 'Item_Fat_Content', 'Item_Visibility',\n",
       "       'Item_Type', 'Item_MRP', 'Outlet_Identifier',\n",
       "       'Outlet_Establishment_Year', 'Outlet_Size', 'Outlet_Location_Type',\n",
       "       'Outlet_Type', 'Item_Outlet_Sales'],\n",
       "      dtype='object')"
      ]
     },
     "execution_count": 51,
     "metadata": {},
     "output_type": "execute_result"
    }
   ],
   "source": [
    "df.columns"
   ]
  },
  {
   "cell_type": "code",
   "execution_count": 53,
   "id": "70f1f207-5330-4589-a143-06516844d8a2",
   "metadata": {},
   "outputs": [
    {
     "name": "stdout",
     "output_type": "stream",
     "text": [
      "       name  age grade\n",
      "0     Andew   12     A\n",
      "1    Bhuvan   18     B\n",
      "2   Clinton   11     A\n",
      "3     Drake   12     C\n",
      "4     Eisha   13     B\n",
      "5    Farhan   22     C\n",
      "6    Garima   11     A\n",
      "7  Himanshu   19     A\n",
      "8    Ishaan   10     D\n",
      "9     Jason    9     B\n"
     ]
    }
   ],
   "source": [
    "jsn=pd.read_json('simple.json',lines=True)\n",
    "print(jsn)"
   ]
  },
  {
   "cell_type": "markdown",
   "id": "52968e50-a43c-4767-8e42-d4ceba50c43f",
   "metadata": {},
   "source": [
    "##  Perform at least 3 subsetting operations"
   ]
  },
  {
   "cell_type": "markdown",
   "id": "2d1f6b5e-e330-4e09-85e3-5e178fb62787",
   "metadata": {},
   "source": [
    "###  1) Position-Based: First 5 rows, columns 0,1,3"
   ]
  },
  {
   "cell_type": "code",
   "execution_count": 57,
   "id": "93db7c66-1e72-430c-98d1-6266de6931d4",
   "metadata": {},
   "outputs": [
    {
     "name": "stdout",
     "output_type": "stream",
     "text": [
      "  Item_Identifier  Item_Weight  Item_Visibility\n",
      "0           FDA15         9.30         0.016047\n",
      "1           DRC01         5.92         0.019278\n",
      "2           FDN15        17.50         0.016760\n",
      "3           FDX07        19.20         0.000000\n",
      "4           NCD19         8.93         0.000000\n"
     ]
    }
   ],
   "source": [
    "sub_st=df.iloc[:5,[0,1,3]]\n",
    "print(sub_st)"
   ]
  },
  {
   "cell_type": "markdown",
   "id": "0ba2f00f-74e7-480e-b2df-2808f968a0c8",
   "metadata": {},
   "source": [
    "### 2) Label-Based: Filter rows where Outlet_Identifier == 'OUT049'"
   ]
  },
  {
   "cell_type": "code",
   "execution_count": 60,
   "id": "173d5e01-41b6-4fb4-94cf-29ddd7b567ea",
   "metadata": {},
   "outputs": [],
   "source": [
    "lbd=df[df['Outlet_Identifier']=='OUT049']"
   ]
  },
  {
   "cell_type": "code",
   "execution_count": 62,
   "id": "d846e8a6-3391-4cca-8a8c-0c182bb4c8e3",
   "metadata": {},
   "outputs": [
    {
     "name": "stdout",
     "output_type": "stream",
     "text": [
      "   Item_Identifier  Item_Weight Item_Fat_Content  Item_Visibility  \\\n",
      "0            FDA15          9.3          Low Fat         0.016047   \n",
      "2            FDN15         17.5          Low Fat         0.016760   \n",
      "10           FDY07         11.8          Low Fat         0.000000   \n",
      "12           FDX32         15.1          Regular         0.100014   \n",
      "17           FDP49          9.0          Regular         0.069196   \n",
      "\n",
      "                Item_Type  Item_MRP Outlet_Identifier  \\\n",
      "0                   Dairy  249.8092            OUT049   \n",
      "2                    Meat  141.6180            OUT049   \n",
      "10  Fruits and Vegetables   45.5402            OUT049   \n",
      "12  Fruits and Vegetables  145.4786            OUT049   \n",
      "17              Breakfast   54.3614            OUT049   \n",
      "\n",
      "    Outlet_Establishment_Year Outlet_Size Outlet_Location_Type  \\\n",
      "0                        1999      Medium               Tier 1   \n",
      "2                        1999      Medium               Tier 1   \n",
      "10                       1999      Medium               Tier 1   \n",
      "12                       1999      Medium               Tier 1   \n",
      "17                       1999      Medium               Tier 1   \n",
      "\n",
      "          Outlet_Type  Item_Outlet_Sales  \n",
      "0   Supermarket Type1          3735.1380  \n",
      "2   Supermarket Type1          2097.2700  \n",
      "10  Supermarket Type1          1516.0266  \n",
      "12  Supermarket Type1          1589.2646  \n",
      "17  Supermarket Type1           718.3982  \n"
     ]
    }
   ],
   "source": [
    "print(lbd.head())"
   ]
  },
  {
   "cell_type": "markdown",
   "id": "d2b60d87-d1f6-4414-9304-86d6df5cbfb5",
   "metadata": {},
   "source": [
    "### 3) Value-Based: Filter where sales > 5000 and item type is Snacks"
   ]
  },
  {
   "cell_type": "code",
   "execution_count": 65,
   "id": "ec7aec74-7c2d-4292-a64c-9aa6e1c92ee2",
   "metadata": {},
   "outputs": [],
   "source": [
    "flt_based=df[(df['Item_Outlet_Sales']>5000) & (df['Item_Type']==\"Snack Foods\")]"
   ]
  },
  {
   "cell_type": "code",
   "execution_count": 67,
   "id": "01282137-f28d-4974-ae04-74c4ed3aaeb7",
   "metadata": {},
   "outputs": [
    {
     "name": "stdout",
     "output_type": "stream",
     "text": [
      "    Item_Identifier  Item_Weight Item_Fat_Content  Item_Visibility  \\\n",
      "55            FDK21        7.905          Low Fat         0.010053   \n",
      "333           FDN58          NaN          Regular         0.056597   \n",
      "373           FDX09        9.000          Low Fat         0.065237   \n",
      "406           FDF22        6.865          Low Fat         0.056919   \n",
      "640           FDC46          NaN          Low Fat         0.115978   \n",
      "\n",
      "       Item_Type  Item_MRP Outlet_Identifier  Outlet_Establishment_Year  \\\n",
      "55   Snack Foods  249.0408            OUT018                       2009   \n",
      "333  Snack Foods  230.9984            OUT027                       1985   \n",
      "373  Snack Foods  176.4370            OUT035                       2004   \n",
      "406  Snack Foods  212.8218            OUT049                       1999   \n",
      "640  Snack Foods  183.4266            OUT027                       1985   \n",
      "\n",
      "    Outlet_Size Outlet_Location_Type        Outlet_Type  Item_Outlet_Sales  \n",
      "55       Medium               Tier 3  Supermarket Type2          6258.5200  \n",
      "333      Medium               Tier 3  Supermarket Type3          9267.9360  \n",
      "373       Small               Tier 2  Supermarket Type1          7763.2280  \n",
      "406      Medium               Tier 1  Supermarket Type1          5770.4886  \n",
      "640      Medium               Tier 3  Supermarket Type3          7192.6374  \n"
     ]
    }
   ],
   "source": [
    "print(flt_based.head())"
   ]
  },
  {
   "cell_type": "markdown",
   "id": "db3a7f58-9738-4915-968d-3431e55441f4",
   "metadata": {},
   "source": [
    "## Modify dataset (add column, drop NA, rename)"
   ]
  },
  {
   "cell_type": "markdown",
   "id": "1629a498-42b3-47e2-b4de-ff0cbe949fe2",
   "metadata": {},
   "source": [
    "### Add new column: Estimated Profit = Sales - MRP"
   ]
  },
  {
   "cell_type": "code",
   "execution_count": 71,
   "id": "9b1ec93b-dc18-4c5e-9797-5e8e31370b97",
   "metadata": {},
   "outputs": [],
   "source": [
    "df['estimated']=df['Item_Outlet_Sales']-df['Item_MRP']"
   ]
  },
  {
   "cell_type": "code",
   "execution_count": 73,
   "id": "42c271a8-7298-421e-bab7-837bebc8133b",
   "metadata": {},
   "outputs": [
    {
     "data": {
      "text/html": [
       "<div>\n",
       "<style scoped>\n",
       "    .dataframe tbody tr th:only-of-type {\n",
       "        vertical-align: middle;\n",
       "    }\n",
       "\n",
       "    .dataframe tbody tr th {\n",
       "        vertical-align: top;\n",
       "    }\n",
       "\n",
       "    .dataframe thead th {\n",
       "        text-align: right;\n",
       "    }\n",
       "</style>\n",
       "<table border=\"1\" class=\"dataframe\">\n",
       "  <thead>\n",
       "    <tr style=\"text-align: right;\">\n",
       "      <th></th>\n",
       "      <th>Item_Identifier</th>\n",
       "      <th>Item_Weight</th>\n",
       "      <th>Item_Fat_Content</th>\n",
       "      <th>Item_Visibility</th>\n",
       "      <th>Item_Type</th>\n",
       "      <th>Item_MRP</th>\n",
       "      <th>Outlet_Identifier</th>\n",
       "      <th>Outlet_Establishment_Year</th>\n",
       "      <th>Outlet_Size</th>\n",
       "      <th>Outlet_Location_Type</th>\n",
       "      <th>Outlet_Type</th>\n",
       "      <th>Item_Outlet_Sales</th>\n",
       "      <th>estimated</th>\n",
       "    </tr>\n",
       "  </thead>\n",
       "  <tbody>\n",
       "    <tr>\n",
       "      <th>0</th>\n",
       "      <td>FDA15</td>\n",
       "      <td>9.30</td>\n",
       "      <td>Low Fat</td>\n",
       "      <td>0.016047</td>\n",
       "      <td>Dairy</td>\n",
       "      <td>249.8092</td>\n",
       "      <td>OUT049</td>\n",
       "      <td>1999</td>\n",
       "      <td>Medium</td>\n",
       "      <td>Tier 1</td>\n",
       "      <td>Supermarket Type1</td>\n",
       "      <td>3735.1380</td>\n",
       "      <td>3485.3288</td>\n",
       "    </tr>\n",
       "    <tr>\n",
       "      <th>1</th>\n",
       "      <td>DRC01</td>\n",
       "      <td>5.92</td>\n",
       "      <td>Regular</td>\n",
       "      <td>0.019278</td>\n",
       "      <td>Soft Drinks</td>\n",
       "      <td>48.2692</td>\n",
       "      <td>OUT018</td>\n",
       "      <td>2009</td>\n",
       "      <td>Medium</td>\n",
       "      <td>Tier 3</td>\n",
       "      <td>Supermarket Type2</td>\n",
       "      <td>443.4228</td>\n",
       "      <td>395.1536</td>\n",
       "    </tr>\n",
       "    <tr>\n",
       "      <th>2</th>\n",
       "      <td>FDN15</td>\n",
       "      <td>17.50</td>\n",
       "      <td>Low Fat</td>\n",
       "      <td>0.016760</td>\n",
       "      <td>Meat</td>\n",
       "      <td>141.6180</td>\n",
       "      <td>OUT049</td>\n",
       "      <td>1999</td>\n",
       "      <td>Medium</td>\n",
       "      <td>Tier 1</td>\n",
       "      <td>Supermarket Type1</td>\n",
       "      <td>2097.2700</td>\n",
       "      <td>1955.6520</td>\n",
       "    </tr>\n",
       "    <tr>\n",
       "      <th>3</th>\n",
       "      <td>FDX07</td>\n",
       "      <td>19.20</td>\n",
       "      <td>Regular</td>\n",
       "      <td>0.000000</td>\n",
       "      <td>Fruits and Vegetables</td>\n",
       "      <td>182.0950</td>\n",
       "      <td>OUT010</td>\n",
       "      <td>1998</td>\n",
       "      <td>NaN</td>\n",
       "      <td>Tier 3</td>\n",
       "      <td>Grocery Store</td>\n",
       "      <td>732.3800</td>\n",
       "      <td>550.2850</td>\n",
       "    </tr>\n",
       "    <tr>\n",
       "      <th>4</th>\n",
       "      <td>NCD19</td>\n",
       "      <td>8.93</td>\n",
       "      <td>Low Fat</td>\n",
       "      <td>0.000000</td>\n",
       "      <td>Household</td>\n",
       "      <td>53.8614</td>\n",
       "      <td>OUT013</td>\n",
       "      <td>1987</td>\n",
       "      <td>High</td>\n",
       "      <td>Tier 3</td>\n",
       "      <td>Supermarket Type1</td>\n",
       "      <td>994.7052</td>\n",
       "      <td>940.8438</td>\n",
       "    </tr>\n",
       "  </tbody>\n",
       "</table>\n",
       "</div>"
      ],
      "text/plain": [
       "  Item_Identifier  Item_Weight Item_Fat_Content  Item_Visibility  \\\n",
       "0           FDA15         9.30          Low Fat         0.016047   \n",
       "1           DRC01         5.92          Regular         0.019278   \n",
       "2           FDN15        17.50          Low Fat         0.016760   \n",
       "3           FDX07        19.20          Regular         0.000000   \n",
       "4           NCD19         8.93          Low Fat         0.000000   \n",
       "\n",
       "               Item_Type  Item_MRP Outlet_Identifier  \\\n",
       "0                  Dairy  249.8092            OUT049   \n",
       "1            Soft Drinks   48.2692            OUT018   \n",
       "2                   Meat  141.6180            OUT049   \n",
       "3  Fruits and Vegetables  182.0950            OUT010   \n",
       "4              Household   53.8614            OUT013   \n",
       "\n",
       "   Outlet_Establishment_Year Outlet_Size Outlet_Location_Type  \\\n",
       "0                       1999      Medium               Tier 1   \n",
       "1                       2009      Medium               Tier 3   \n",
       "2                       1999      Medium               Tier 1   \n",
       "3                       1998         NaN               Tier 3   \n",
       "4                       1987        High               Tier 3   \n",
       "\n",
       "         Outlet_Type  Item_Outlet_Sales  estimated  \n",
       "0  Supermarket Type1          3735.1380  3485.3288  \n",
       "1  Supermarket Type2           443.4228   395.1536  \n",
       "2  Supermarket Type1          2097.2700  1955.6520  \n",
       "3      Grocery Store           732.3800   550.2850  \n",
       "4  Supermarket Type1           994.7052   940.8438  "
      ]
     },
     "execution_count": 73,
     "metadata": {},
     "output_type": "execute_result"
    }
   ],
   "source": [
    "df.head()"
   ]
  },
  {
   "cell_type": "markdown",
   "id": "0e1ddb6a-3cf8-40ca-bc48-fd0ed6642765",
   "metadata": {},
   "source": [
    "### Rename column"
   ]
  },
  {
   "cell_type": "code",
   "execution_count": 76,
   "id": "11bb245c-7c2c-422e-9504-49156b691166",
   "metadata": {},
   "outputs": [],
   "source": [
    "df.rename(columns={'Item_Weight':'weight'}, inplace=True)"
   ]
  },
  {
   "cell_type": "code",
   "execution_count": 78,
   "id": "03b0f768-e3a0-4488-930b-790130cc2ba6",
   "metadata": {},
   "outputs": [
    {
     "data": {
      "text/html": [
       "<div>\n",
       "<style scoped>\n",
       "    .dataframe tbody tr th:only-of-type {\n",
       "        vertical-align: middle;\n",
       "    }\n",
       "\n",
       "    .dataframe tbody tr th {\n",
       "        vertical-align: top;\n",
       "    }\n",
       "\n",
       "    .dataframe thead th {\n",
       "        text-align: right;\n",
       "    }\n",
       "</style>\n",
       "<table border=\"1\" class=\"dataframe\">\n",
       "  <thead>\n",
       "    <tr style=\"text-align: right;\">\n",
       "      <th></th>\n",
       "      <th>Item_Identifier</th>\n",
       "      <th>weight</th>\n",
       "      <th>Item_Fat_Content</th>\n",
       "      <th>Item_Visibility</th>\n",
       "      <th>Item_Type</th>\n",
       "      <th>Item_MRP</th>\n",
       "      <th>Outlet_Identifier</th>\n",
       "      <th>Outlet_Establishment_Year</th>\n",
       "      <th>Outlet_Size</th>\n",
       "      <th>Outlet_Location_Type</th>\n",
       "      <th>Outlet_Type</th>\n",
       "      <th>Item_Outlet_Sales</th>\n",
       "      <th>estimated</th>\n",
       "    </tr>\n",
       "  </thead>\n",
       "  <tbody>\n",
       "    <tr>\n",
       "      <th>0</th>\n",
       "      <td>FDA15</td>\n",
       "      <td>9.30</td>\n",
       "      <td>Low Fat</td>\n",
       "      <td>0.016047</td>\n",
       "      <td>Dairy</td>\n",
       "      <td>249.8092</td>\n",
       "      <td>OUT049</td>\n",
       "      <td>1999</td>\n",
       "      <td>Medium</td>\n",
       "      <td>Tier 1</td>\n",
       "      <td>Supermarket Type1</td>\n",
       "      <td>3735.1380</td>\n",
       "      <td>3485.3288</td>\n",
       "    </tr>\n",
       "    <tr>\n",
       "      <th>1</th>\n",
       "      <td>DRC01</td>\n",
       "      <td>5.92</td>\n",
       "      <td>Regular</td>\n",
       "      <td>0.019278</td>\n",
       "      <td>Soft Drinks</td>\n",
       "      <td>48.2692</td>\n",
       "      <td>OUT018</td>\n",
       "      <td>2009</td>\n",
       "      <td>Medium</td>\n",
       "      <td>Tier 3</td>\n",
       "      <td>Supermarket Type2</td>\n",
       "      <td>443.4228</td>\n",
       "      <td>395.1536</td>\n",
       "    </tr>\n",
       "    <tr>\n",
       "      <th>2</th>\n",
       "      <td>FDN15</td>\n",
       "      <td>17.50</td>\n",
       "      <td>Low Fat</td>\n",
       "      <td>0.016760</td>\n",
       "      <td>Meat</td>\n",
       "      <td>141.6180</td>\n",
       "      <td>OUT049</td>\n",
       "      <td>1999</td>\n",
       "      <td>Medium</td>\n",
       "      <td>Tier 1</td>\n",
       "      <td>Supermarket Type1</td>\n",
       "      <td>2097.2700</td>\n",
       "      <td>1955.6520</td>\n",
       "    </tr>\n",
       "    <tr>\n",
       "      <th>3</th>\n",
       "      <td>FDX07</td>\n",
       "      <td>19.20</td>\n",
       "      <td>Regular</td>\n",
       "      <td>0.000000</td>\n",
       "      <td>Fruits and Vegetables</td>\n",
       "      <td>182.0950</td>\n",
       "      <td>OUT010</td>\n",
       "      <td>1998</td>\n",
       "      <td>NaN</td>\n",
       "      <td>Tier 3</td>\n",
       "      <td>Grocery Store</td>\n",
       "      <td>732.3800</td>\n",
       "      <td>550.2850</td>\n",
       "    </tr>\n",
       "    <tr>\n",
       "      <th>4</th>\n",
       "      <td>NCD19</td>\n",
       "      <td>8.93</td>\n",
       "      <td>Low Fat</td>\n",
       "      <td>0.000000</td>\n",
       "      <td>Household</td>\n",
       "      <td>53.8614</td>\n",
       "      <td>OUT013</td>\n",
       "      <td>1987</td>\n",
       "      <td>High</td>\n",
       "      <td>Tier 3</td>\n",
       "      <td>Supermarket Type1</td>\n",
       "      <td>994.7052</td>\n",
       "      <td>940.8438</td>\n",
       "    </tr>\n",
       "  </tbody>\n",
       "</table>\n",
       "</div>"
      ],
      "text/plain": [
       "  Item_Identifier  weight Item_Fat_Content  Item_Visibility  \\\n",
       "0           FDA15    9.30          Low Fat         0.016047   \n",
       "1           DRC01    5.92          Regular         0.019278   \n",
       "2           FDN15   17.50          Low Fat         0.016760   \n",
       "3           FDX07   19.20          Regular         0.000000   \n",
       "4           NCD19    8.93          Low Fat         0.000000   \n",
       "\n",
       "               Item_Type  Item_MRP Outlet_Identifier  \\\n",
       "0                  Dairy  249.8092            OUT049   \n",
       "1            Soft Drinks   48.2692            OUT018   \n",
       "2                   Meat  141.6180            OUT049   \n",
       "3  Fruits and Vegetables  182.0950            OUT010   \n",
       "4              Household   53.8614            OUT013   \n",
       "\n",
       "   Outlet_Establishment_Year Outlet_Size Outlet_Location_Type  \\\n",
       "0                       1999      Medium               Tier 1   \n",
       "1                       2009      Medium               Tier 3   \n",
       "2                       1999      Medium               Tier 1   \n",
       "3                       1998         NaN               Tier 3   \n",
       "4                       1987        High               Tier 3   \n",
       "\n",
       "         Outlet_Type  Item_Outlet_Sales  estimated  \n",
       "0  Supermarket Type1          3735.1380  3485.3288  \n",
       "1  Supermarket Type2           443.4228   395.1536  \n",
       "2  Supermarket Type1          2097.2700  1955.6520  \n",
       "3      Grocery Store           732.3800   550.2850  \n",
       "4  Supermarket Type1           994.7052   940.8438  "
      ]
     },
     "execution_count": 78,
     "metadata": {},
     "output_type": "execute_result"
    }
   ],
   "source": [
    "df.head()"
   ]
  },
  {
   "cell_type": "markdown",
   "id": "486c139c-6fbf-4b6f-9fc0-474e04ea4877",
   "metadata": {},
   "source": [
    "### Drop missing values"
   ]
  },
  {
   "cell_type": "code",
   "execution_count": 81,
   "id": "712e5e5d-2701-441c-ac0e-7893e656751c",
   "metadata": {},
   "outputs": [],
   "source": [
    "df.dropna(inplace=True)"
   ]
  },
  {
   "cell_type": "markdown",
   "id": "83be3942-078f-456e-a1b0-91bfb45c08df",
   "metadata": {},
   "source": [
    "## Extract insights (top categories, summary stats)"
   ]
  },
  {
   "cell_type": "markdown",
   "id": "b2019d92-6a31-4666-97f8-57eaac11b3e0",
   "metadata": {},
   "source": [
    "### Top 5 products with highest sales"
   ]
  },
  {
   "cell_type": "code",
   "execution_count": 85,
   "id": "d4b9093a-f960-4056-8005-cda89ee91c44",
   "metadata": {},
   "outputs": [],
   "source": [
    "top_products=df.groupby('Item_Identifier')['Item_Outlet_Sales'].sum().sort_values(ascending=False)"
   ]
  },
  {
   "cell_type": "code",
   "execution_count": 87,
   "id": "99e1da0b-fda8-4478-9035-92b77c9655e1",
   "metadata": {},
   "outputs": [
    {
     "name": "stdout",
     "output_type": "stream",
     "text": [
      "Item_Identifier\n",
      "FDL58    25311.0528\n",
      "FDY55    24157.8872\n",
      "FDD44    23962.8078\n",
      "FDA04    22791.6656\n",
      "FDB15    22674.4848\n",
      "Name: Item_Outlet_Sales, dtype: float64\n"
     ]
    }
   ],
   "source": [
    "print(top_products.head())"
   ]
  },
  {
   "cell_type": "markdown",
   "id": "aae16b79-64c8-46b8-9ebd-f284aa01c225",
   "metadata": {},
   "source": [
    "### Find items sold in maximum number of outlets"
   ]
  },
  {
   "cell_type": "code",
   "execution_count": 90,
   "id": "5c2e627a-5c16-47f9-a845-53bffa43d55d",
   "metadata": {},
   "outputs": [],
   "source": [
    "max_outlet=df.groupby('Item_Identifier')['Outlet_Identifier'].nunique().sort_values(ascending=False)"
   ]
  },
  {
   "cell_type": "code",
   "execution_count": 92,
   "id": "ac6d8229-5bce-46c8-a4ae-508d2422d6f0",
   "metadata": {},
   "outputs": [
    {
     "name": "stdout",
     "output_type": "stream",
     "text": [
      "Item_Identifier\n",
      "FDD21    5\n",
      "FDO19    5\n",
      "FDB12    5\n",
      "FDB15    5\n",
      "NCJ30    5\n",
      "        ..\n",
      "FDE53    1\n",
      "FDM12    1\n",
      "FDE56    1\n",
      "FDX10    1\n",
      "FDC52    1\n",
      "Name: Outlet_Identifier, Length: 1535, dtype: int64\n"
     ]
    }
   ],
   "source": [
    "print(max_outlet)"
   ]
  },
  {
   "cell_type": "markdown",
   "id": "af761093-eb9c-453a-b3a1-ae084763771e",
   "metadata": {},
   "source": [
    "### summary statistics for sales and profit"
   ]
  },
  {
   "cell_type": "code",
   "execution_count": 95,
   "id": "02de0fc4-426d-48c5-a315-d6d04c72d0c9",
   "metadata": {},
   "outputs": [
    {
     "data": {
      "text/plain": [
       "count     4650.000000\n",
       "mean      2272.037489\n",
       "std       1497.964740\n",
       "min         69.243200\n",
       "25%       1125.202000\n",
       "50%       1939.808300\n",
       "75%       3111.616300\n",
       "max      10256.649000\n",
       "Name: Item_Outlet_Sales, dtype: float64"
      ]
     },
     "execution_count": 95,
     "metadata": {},
     "output_type": "execute_result"
    }
   ],
   "source": [
    "df['Item_Outlet_Sales'].describe()"
   ]
  },
  {
   "cell_type": "code",
   "execution_count": 97,
   "id": "658cf7c1-8ec8-4440-8975-858ebc21743a",
   "metadata": {},
   "outputs": [
    {
     "data": {
      "text/plain": [
       "count    4650.000000\n",
       "mean     2130.321161\n",
       "std      1456.264238\n",
       "min        33.521600\n",
       "25%      1010.033100\n",
       "50%      1796.295500\n",
       "75%      2929.943050\n",
       "max      9995.358000\n",
       "Name: estimated, dtype: float64"
      ]
     },
     "execution_count": 97,
     "metadata": {},
     "output_type": "execute_result"
    }
   ],
   "source": [
    "df['estimated'].describe()"
   ]
  },
  {
   "cell_type": "markdown",
   "id": "d7846df6-2554-4067-bf7c-b7b9aab2f1d4",
   "metadata": {},
   "source": [
    "## Visualize at least 1 trend"
   ]
  },
  {
   "cell_type": "code",
   "execution_count": 100,
   "id": "2854dd5e-c4da-45bd-80ac-8d21289c4101",
   "metadata": {},
   "outputs": [
    {
     "data": {
      "image/png": "[encoded data removed]",
      "text/plain": [
       "<Figure size 1000x600 with 1 Axes>"
      ]
     },
     "metadata": {},
     "output_type": "display_data"
    }
   ],
   "source": [
    "import matplotlib.pyplot as plt\n",
    "import seaborn as sns\n",
    "plt.figure(figsize=(10,6))\n",
    "sns.boxplot(x=df['Item_Outlet_Sales'])\n",
    "plt.title(\"Outlier Detection: Item Outlet Sales\")\n",
    "plt.show()"
   ]
  },
  {
   "cell_type": "code",
   "execution_count": null,
   "id": "fe3d8e42-6960-4cae-9b00-d0eebf6e3a2d",
   "metadata": {},
   "outputs": [],
   "source": []
  }
 ],
 "metadata": {
  "kernelspec": {
   "display_name": "Python 3 (ipykernel)",
   "language": "python",
   "name": "python3"
  },
  "language_info": {
   "codemirror_mode": {
    "name": "ipython",
    "version": 3
   },
   "file_extension": ".py",
   "mimetype": "text/x-python",
   "name": "python",
   "nbconvert_exporter": "python",
   "pygments_lexer": "ipython3",
   "version": "3.12.7"
  }
 },
 "nbformat": 4,
 "nbformat_minor": 5
}
