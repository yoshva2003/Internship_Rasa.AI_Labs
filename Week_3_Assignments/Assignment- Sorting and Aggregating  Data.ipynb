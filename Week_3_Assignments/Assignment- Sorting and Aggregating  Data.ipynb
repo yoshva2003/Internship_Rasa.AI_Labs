{
 "cells": [
  {
   "cell_type": "markdown",
   "metadata": {},
   "source": [
    "---\n",
    "---\n",
    "\n",
    "<center><h1>📍 📍 Assignment: Sorting and Aggregating Data 📍 📍</h1></center>\n",
    "\n",
    "---\n",
    "\n",
    "#### `READ THE DATASET`\n",
    "\n",
    "---"
   ]
  },
  {
   "cell_type": "code",
   "execution_count": 172,
   "metadata": {},
   "outputs": [],
   "source": [
    "import pandas as pd"
   ]
  },
  {
   "cell_type": "code",
   "execution_count": 174,
   "metadata": {},
   "outputs": [
    {
     "name": "stdout",
     "output_type": "stream",
     "text": [
      "          ID          Datetime  Count\n",
      "0          0  25-08-2012 00:00      8\n",
      "1          1  25-08-2012 01:00      2\n",
      "2          2  25-08-2012 02:00      6\n",
      "3          3  25-08-2012 03:00      2\n",
      "4          4  25-08-2012 04:00      2\n",
      "...      ...               ...    ...\n",
      "18283  18283  25-09-2014 19:00    868\n",
      "18284  18284  25-09-2014 20:00    732\n",
      "18285  18285  25-09-2014 21:00    702\n",
      "18286  18286  25-09-2014 22:00    580\n",
      "18287  18287  25-09-2014 23:00    534\n",
      "\n",
      "[18288 rows x 3 columns]\n"
     ]
    }
   ],
   "source": [
    "data = pd.read_csv('time_series.csv')\n",
    "print(data)"
   ]
  },
  {
   "cell_type": "code",
   "execution_count": 176,
   "metadata": {},
   "outputs": [
    {
     "data": {
      "text/html": [
       "<div>\n",
       "<style scoped>\n",
       "    .dataframe tbody tr th:only-of-type {\n",
       "        vertical-align: middle;\n",
       "    }\n",
       "\n",
       "    .dataframe tbody tr th {\n",
       "        vertical-align: top;\n",
       "    }\n",
       "\n",
       "    .dataframe thead th {\n",
       "        text-align: right;\n",
       "    }\n",
       "</style>\n",
       "<table border=\"1\" class=\"dataframe\">\n",
       "  <thead>\n",
       "    <tr style=\"text-align: right;\">\n",
       "      <th></th>\n",
       "      <th>ID</th>\n",
       "      <th>Datetime</th>\n",
       "      <th>Count</th>\n",
       "    </tr>\n",
       "  </thead>\n",
       "  <tbody>\n",
       "    <tr>\n",
       "      <th>0</th>\n",
       "      <td>0</td>\n",
       "      <td>25-08-2012 00:00</td>\n",
       "      <td>8</td>\n",
       "    </tr>\n",
       "    <tr>\n",
       "      <th>1</th>\n",
       "      <td>1</td>\n",
       "      <td>25-08-2012 01:00</td>\n",
       "      <td>2</td>\n",
       "    </tr>\n",
       "    <tr>\n",
       "      <th>2</th>\n",
       "      <td>2</td>\n",
       "      <td>25-08-2012 02:00</td>\n",
       "      <td>6</td>\n",
       "    </tr>\n",
       "    <tr>\n",
       "      <th>3</th>\n",
       "      <td>3</td>\n",
       "      <td>25-08-2012 03:00</td>\n",
       "      <td>2</td>\n",
       "    </tr>\n",
       "    <tr>\n",
       "      <th>4</th>\n",
       "      <td>4</td>\n",
       "      <td>25-08-2012 04:00</td>\n",
       "      <td>2</td>\n",
       "    </tr>\n",
       "  </tbody>\n",
       "</table>\n",
       "</div>"
      ],
      "text/plain": [
       "   ID          Datetime  Count\n",
       "0   0  25-08-2012 00:00      8\n",
       "1   1  25-08-2012 01:00      2\n",
       "2   2  25-08-2012 02:00      6\n",
       "3   3  25-08-2012 03:00      2\n",
       "4   4  25-08-2012 04:00      2"
      ]
     },
     "execution_count": 176,
     "metadata": {},
     "output_type": "execute_result"
    }
   ],
   "source": [
    "data.head()"
   ]
  },
  {
   "cell_type": "code",
   "execution_count": 178,
   "metadata": {},
   "outputs": [
    {
     "data": {
      "text/plain": [
       "ID           int64\n",
       "Datetime    object\n",
       "Count        int64\n",
       "dtype: object"
      ]
     },
     "execution_count": 178,
     "metadata": {},
     "output_type": "execute_result"
    }
   ],
   "source": [
    "data.dtypes"
   ]
  },
  {
   "cell_type": "markdown",
   "metadata": {},
   "source": [
    "#### `Convert the Datetime column to pandas datetime object`\n",
    "\n",
    "---"
   ]
  },
  {
   "cell_type": "code",
   "execution_count": 181,
   "metadata": {},
   "outputs": [
    {
     "name": "stdout",
     "output_type": "stream",
     "text": [
      "          ID            Datetime  Count\n",
      "0          0 2012-08-25 00:00:00      8\n",
      "1          1 2012-08-25 01:00:00      2\n",
      "2          2 2012-08-25 02:00:00      6\n",
      "3          3 2012-08-25 03:00:00      2\n",
      "4          4 2012-08-25 04:00:00      2\n",
      "...      ...                 ...    ...\n",
      "18283  18283 2014-09-25 19:00:00    868\n",
      "18284  18284 2014-09-25 20:00:00    732\n",
      "18285  18285 2014-09-25 21:00:00    702\n",
      "18286  18286 2014-09-25 22:00:00    580\n",
      "18287  18287 2014-09-25 23:00:00    534\n",
      "\n",
      "[18288 rows x 3 columns]\n"
     ]
    },
    {
     "name": "stderr",
     "output_type": "stream",
     "text": [
      "C:\\Users\\YOSHVA.J\\AppData\\Local\\Temp\\ipykernel_15808\\400518243.py:2: UserWarning: Parsing dates in %d-%m-%Y %H:%M format when dayfirst=False (the default) was specified. Pass `dayfirst=True` or specify a format to silence this warning.\n",
      "  data['Datetime']=pd.to_datetime(data['Datetime'])\n"
     ]
    }
   ],
   "source": [
    "# Convert the 'Datetime' column to pandas datetime\n",
    "data['Datetime']=pd.to_datetime(data['Datetime'])\n",
    "# Display the updated DataFrame info\n",
    "print(data)"
   ]
  },
  {
   "cell_type": "markdown",
   "metadata": {},
   "source": [
    "---\n",
    "\n",
    "####  `Create the following features using the Datetime feature`\n",
    "\n",
    "- day of month\n",
    "- month\n",
    "- day of year\n",
    "- hour\n",
    "\n",
    "---"
   ]
  },
  {
   "cell_type": "code",
   "execution_count": 184,
   "metadata": {},
   "outputs": [
    {
     "name": "stdout",
     "output_type": "stream",
     "text": [
      "             Datetime  day_of_month  month  day_of_year  hour\n",
      "0 2012-08-25 00:00:00            25      8          238     0\n",
      "1 2012-08-25 01:00:00            25      8          238     1\n",
      "2 2012-08-25 02:00:00            25      8          238     2\n",
      "3 2012-08-25 03:00:00            25      8          238     3\n",
      "4 2012-08-25 04:00:00            25      8          238     4\n"
     ]
    }
   ],
   "source": [
    "\n",
    "data['Datetime'] = pd.to_datetime(data['Datetime'])\n",
    "\n",
    "data['day_of_month'] = data['Datetime'].dt.day\n",
    "data['month'] = data['Datetime'].dt.month\n",
    "data['day_of_year'] = data['Datetime'].dt.dayofyear\n",
    "data['hour'] = data['Datetime'].dt.hour\n",
    "print(data[['Datetime', 'day_of_month', 'month', 'day_of_year', 'hour']].head())"
   ]
  },
  {
   "cell_type": "markdown",
   "metadata": {},
   "source": [
    "---\n",
    "\n",
    "#### `Consider the following dataframe`\n",
    "\n",
    "---"
   ]
  },
  {
   "cell_type": "code",
   "execution_count": 187,
   "metadata": {},
   "outputs": [
    {
     "data": {
      "text/html": [
       "<div>\n",
       "<style scoped>\n",
       "    .dataframe tbody tr th:only-of-type {\n",
       "        vertical-align: middle;\n",
       "    }\n",
       "\n",
       "    .dataframe tbody tr th {\n",
       "        vertical-align: top;\n",
       "    }\n",
       "\n",
       "    .dataframe thead th {\n",
       "        text-align: right;\n",
       "    }\n",
       "</style>\n",
       "<table border=\"1\" class=\"dataframe\">\n",
       "  <thead>\n",
       "    <tr style=\"text-align: right;\">\n",
       "      <th></th>\n",
       "      <th>id</th>\n",
       "      <th>name</th>\n",
       "      <th>marks</th>\n",
       "    </tr>\n",
       "  </thead>\n",
       "  <tbody>\n",
       "    <tr>\n",
       "      <th>0</th>\n",
       "      <td>1</td>\n",
       "      <td>Akash</td>\n",
       "      <td>22</td>\n",
       "    </tr>\n",
       "    <tr>\n",
       "      <th>1</th>\n",
       "      <td>2</td>\n",
       "      <td>Akansha</td>\n",
       "      <td>23</td>\n",
       "    </tr>\n",
       "    <tr>\n",
       "      <th>2</th>\n",
       "      <td>3</td>\n",
       "      <td>Naman</td>\n",
       "      <td>43</td>\n",
       "    </tr>\n",
       "    <tr>\n",
       "      <th>3</th>\n",
       "      <td>4</td>\n",
       "      <td>Pulkit</td>\n",
       "      <td>41</td>\n",
       "    </tr>\n",
       "    <tr>\n",
       "      <th>4</th>\n",
       "      <td>5</td>\n",
       "      <td>Anand</td>\n",
       "      <td>12</td>\n",
       "    </tr>\n",
       "  </tbody>\n",
       "</table>\n",
       "</div>"
      ],
      "text/plain": [
       "   id     name  marks\n",
       "0   1    Akash     22\n",
       "1   2  Akansha     23\n",
       "2   3    Naman     43\n",
       "3   4   Pulkit     41\n",
       "4   5    Anand     12"
      ]
     },
     "execution_count": 187,
     "metadata": {},
     "output_type": "execute_result"
    }
   ],
   "source": [
    "sample_df = pd.DataFrame({\n",
    "    'id'   :  [1, 2, 3, 4, 5],\n",
    "    'name' :  [ 'Akash', 'Akansha', 'Naman', 'Pulkit', 'Anand'],\n",
    "    'marks':  [ 22, 23, 43, 41, 12]\n",
    "})\n",
    "sample_df"
   ]
  },
  {
   "cell_type": "markdown",
   "metadata": {},
   "source": [
    "#### Sort the  dataframe by `marks` column in descending order\n",
    "\n",
    "---"
   ]
  },
  {
   "cell_type": "code",
   "execution_count": 190,
   "metadata": {},
   "outputs": [
    {
     "name": "stdout",
     "output_type": "stream",
     "text": [
      "   id     name  marks\n",
      "2   3    Naman     43\n",
      "3   4   Pulkit     41\n",
      "1   2  Akansha     23\n",
      "0   1    Akash     22\n",
      "4   5    Anand     12\n"
     ]
    }
   ],
   "source": [
    "sorted_df=sample_df.sort_values(by='marks',ascending=False)\n",
    "print(sorted_df)"
   ]
  },
  {
   "cell_type": "markdown",
   "metadata": {},
   "source": [
    "#### Consider another dataframe city\n",
    "---"
   ]
  },
  {
   "cell_type": "code",
   "execution_count": 193,
   "metadata": {},
   "outputs": [
    {
     "data": {
      "text/html": [
       "<div>\n",
       "<style scoped>\n",
       "    .dataframe tbody tr th:only-of-type {\n",
       "        vertical-align: middle;\n",
       "    }\n",
       "\n",
       "    .dataframe tbody tr th {\n",
       "        vertical-align: top;\n",
       "    }\n",
       "\n",
       "    .dataframe thead th {\n",
       "        text-align: right;\n",
       "    }\n",
       "</style>\n",
       "<table border=\"1\" class=\"dataframe\">\n",
       "  <thead>\n",
       "    <tr style=\"text-align: right;\">\n",
       "      <th></th>\n",
       "      <th>name</th>\n",
       "      <th>city</th>\n",
       "    </tr>\n",
       "  </thead>\n",
       "  <tbody>\n",
       "    <tr>\n",
       "      <th>0</th>\n",
       "      <td>Akash</td>\n",
       "      <td>Delhi</td>\n",
       "    </tr>\n",
       "    <tr>\n",
       "      <th>1</th>\n",
       "      <td>Akansha</td>\n",
       "      <td>Gurugram</td>\n",
       "    </tr>\n",
       "    <tr>\n",
       "      <th>2</th>\n",
       "      <td>Pulkit</td>\n",
       "      <td>Gurugram</td>\n",
       "    </tr>\n",
       "    <tr>\n",
       "      <th>3</th>\n",
       "      <td>Anand</td>\n",
       "      <td>Delhi</td>\n",
       "    </tr>\n",
       "    <tr>\n",
       "      <th>4</th>\n",
       "      <td>Naman</td>\n",
       "      <td>Noida</td>\n",
       "    </tr>\n",
       "  </tbody>\n",
       "</table>\n",
       "</div>"
      ],
      "text/plain": [
       "      name      city\n",
       "0    Akash     Delhi\n",
       "1  Akansha  Gurugram\n",
       "2   Pulkit  Gurugram\n",
       "3    Anand     Delhi\n",
       "4    Naman     Noida"
      ]
     },
     "execution_count": 193,
     "metadata": {},
     "output_type": "execute_result"
    }
   ],
   "source": [
    "city = pd.DataFrame({\n",
    "    'name' : ['Akash', 'Akansha', 'Pulkit', 'Anand', 'Naman'],\n",
    "    'city' : ['Delhi', 'Gurugram', 'Gurugram', 'Delhi', 'Noida']\n",
    "})\n",
    "city"
   ]
  },
  {
   "cell_type": "markdown",
   "metadata": {},
   "source": [
    "***Use the dataframe `sample_df` and `city` and find out the marks of students who live in Gurugram.***\n",
    "\n",
    "---"
   ]
  },
  {
   "cell_type": "code",
   "execution_count": 196,
   "metadata": {},
   "outputs": [
    {
     "name": "stdout",
     "output_type": "stream",
     "text": [
      "      name  marks\n",
      "1  Akansha     23\n",
      "3   Pulkit     41\n"
     ]
    }
   ],
   "source": [
    "merged_df=pd.merge(sample_df,city,on='name')\n",
    "gurugram_students=merged_df[merged_df['city']=='Gurugram']\n",
    "print(gurugram_students[['name','marks']])"
   ]
  },
  {
   "cell_type": "markdown",
   "metadata": {},
   "source": [
    "#### `READ THE BIG MART SALES DATA`\n",
    "\n",
    "---"
   ]
  },
  {
   "cell_type": "code",
   "execution_count": 199,
   "metadata": {},
   "outputs": [],
   "source": [
    "big_mart_data = pd.read_csv('big_mart_sales.csv')"
   ]
  },
  {
   "cell_type": "code",
   "execution_count": 201,
   "metadata": {},
   "outputs": [
    {
     "data": {
      "text/html": [
       "<div>\n",
       "<style scoped>\n",
       "    .dataframe tbody tr th:only-of-type {\n",
       "        vertical-align: middle;\n",
       "    }\n",
       "\n",
       "    .dataframe tbody tr th {\n",
       "        vertical-align: top;\n",
       "    }\n",
       "\n",
       "    .dataframe thead th {\n",
       "        text-align: right;\n",
       "    }\n",
       "</style>\n",
       "<table border=\"1\" class=\"dataframe\">\n",
       "  <thead>\n",
       "    <tr style=\"text-align: right;\">\n",
       "      <th></th>\n",
       "      <th>Item_Identifier</th>\n",
       "      <th>Item_Weight</th>\n",
       "      <th>Item_Fat_Content</th>\n",
       "      <th>Item_Visibility</th>\n",
       "      <th>Item_Type</th>\n",
       "      <th>Item_MRP</th>\n",
       "      <th>Outlet_Identifier</th>\n",
       "      <th>Outlet_Establishment_Year</th>\n",
       "      <th>Outlet_Size</th>\n",
       "      <th>Outlet_Location_Type</th>\n",
       "      <th>Outlet_Type</th>\n",
       "      <th>Item_Outlet_Sales</th>\n",
       "    </tr>\n",
       "  </thead>\n",
       "  <tbody>\n",
       "    <tr>\n",
       "      <th>0</th>\n",
       "      <td>FDA15</td>\n",
       "      <td>9.30</td>\n",
       "      <td>Low Fat</td>\n",
       "      <td>0.016047</td>\n",
       "      <td>Dairy</td>\n",
       "      <td>249.8092</td>\n",
       "      <td>OUT049</td>\n",
       "      <td>1999</td>\n",
       "      <td>Medium</td>\n",
       "      <td>Tier 1</td>\n",
       "      <td>Supermarket Type1</td>\n",
       "      <td>3735.1380</td>\n",
       "    </tr>\n",
       "    <tr>\n",
       "      <th>1</th>\n",
       "      <td>DRC01</td>\n",
       "      <td>5.92</td>\n",
       "      <td>Regular</td>\n",
       "      <td>0.019278</td>\n",
       "      <td>Soft Drinks</td>\n",
       "      <td>48.2692</td>\n",
       "      <td>OUT018</td>\n",
       "      <td>2009</td>\n",
       "      <td>Medium</td>\n",
       "      <td>Tier 3</td>\n",
       "      <td>Supermarket Type2</td>\n",
       "      <td>443.4228</td>\n",
       "    </tr>\n",
       "    <tr>\n",
       "      <th>2</th>\n",
       "      <td>FDN15</td>\n",
       "      <td>17.50</td>\n",
       "      <td>Low Fat</td>\n",
       "      <td>0.016760</td>\n",
       "      <td>Meat</td>\n",
       "      <td>141.6180</td>\n",
       "      <td>OUT049</td>\n",
       "      <td>1999</td>\n",
       "      <td>Medium</td>\n",
       "      <td>Tier 1</td>\n",
       "      <td>Supermarket Type1</td>\n",
       "      <td>2097.2700</td>\n",
       "    </tr>\n",
       "    <tr>\n",
       "      <th>3</th>\n",
       "      <td>FDX07</td>\n",
       "      <td>19.20</td>\n",
       "      <td>Regular</td>\n",
       "      <td>0.000000</td>\n",
       "      <td>Fruits and Vegetables</td>\n",
       "      <td>182.0950</td>\n",
       "      <td>OUT010</td>\n",
       "      <td>1998</td>\n",
       "      <td>NaN</td>\n",
       "      <td>Tier 3</td>\n",
       "      <td>Grocery Store</td>\n",
       "      <td>732.3800</td>\n",
       "    </tr>\n",
       "    <tr>\n",
       "      <th>4</th>\n",
       "      <td>NCD19</td>\n",
       "      <td>8.93</td>\n",
       "      <td>Low Fat</td>\n",
       "      <td>0.000000</td>\n",
       "      <td>Household</td>\n",
       "      <td>53.8614</td>\n",
       "      <td>OUT013</td>\n",
       "      <td>1987</td>\n",
       "      <td>High</td>\n",
       "      <td>Tier 3</td>\n",
       "      <td>Supermarket Type1</td>\n",
       "      <td>994.7052</td>\n",
       "    </tr>\n",
       "  </tbody>\n",
       "</table>\n",
       "</div>"
      ],
      "text/plain": [
       "  Item_Identifier  Item_Weight Item_Fat_Content  Item_Visibility  \\\n",
       "0           FDA15         9.30          Low Fat         0.016047   \n",
       "1           DRC01         5.92          Regular         0.019278   \n",
       "2           FDN15        17.50          Low Fat         0.016760   \n",
       "3           FDX07        19.20          Regular         0.000000   \n",
       "4           NCD19         8.93          Low Fat         0.000000   \n",
       "\n",
       "               Item_Type  Item_MRP Outlet_Identifier  \\\n",
       "0                  Dairy  249.8092            OUT049   \n",
       "1            Soft Drinks   48.2692            OUT018   \n",
       "2                   Meat  141.6180            OUT049   \n",
       "3  Fruits and Vegetables  182.0950            OUT010   \n",
       "4              Household   53.8614            OUT013   \n",
       "\n",
       "   Outlet_Establishment_Year Outlet_Size Outlet_Location_Type  \\\n",
       "0                       1999      Medium               Tier 1   \n",
       "1                       2009      Medium               Tier 3   \n",
       "2                       1999      Medium               Tier 1   \n",
       "3                       1998         NaN               Tier 3   \n",
       "4                       1987        High               Tier 3   \n",
       "\n",
       "         Outlet_Type  Item_Outlet_Sales  \n",
       "0  Supermarket Type1          3735.1380  \n",
       "1  Supermarket Type2           443.4228  \n",
       "2  Supermarket Type1          2097.2700  \n",
       "3      Grocery Store           732.3800  \n",
       "4  Supermarket Type1           994.7052  "
      ]
     },
     "execution_count": 201,
     "metadata": {},
     "output_type": "execute_result"
    }
   ],
   "source": [
    "big_mart_data.head()"
   ]
  },
  {
   "cell_type": "markdown",
   "metadata": {},
   "source": [
    "#### Find out the number of unique `Item_Type` in each of the `Outlet_Identifier`\n",
    "\n",
    "---"
   ]
  },
  {
   "cell_type": "code",
   "execution_count": 224,
   "metadata": {},
   "outputs": [
    {
     "data": {
      "text/plain": [
       "Outlet_Identifier\n",
       "OUT010    [Fruits and Vegetables, Dairy, Snack Foods, Ca...\n",
       "OUT013    [Household, Snack Foods, Fruits and Vegetables...\n",
       "OUT017    [Frozen Foods, Household, Fruits and Vegetable...\n",
       "OUT018    [Soft Drinks, Baking Goods, Health and Hygiene...\n",
       "OUT019    [Baking Goods, Canned, Dairy, Frozen Foods, Ho...\n",
       "OUT027    [Snack Foods, Hard Drinks, Baking Goods, Fruit...\n",
       "OUT035    [Dairy, Household, Snack Foods, Meat, Fruits a...\n",
       "OUT045    [Frozen Foods, Breads, Health and Hygiene, Can...\n",
       "OUT046    [Dairy, Snack Foods, Breakfast, Frozen Foods, ...\n",
       "OUT049    [Dairy, Meat, Fruits and Vegetables, Breakfast...\n",
       "Name: Item_Type, dtype: object"
      ]
     },
     "execution_count": 224,
     "metadata": {},
     "output_type": "execute_result"
    }
   ],
   "source": [
    "big_mart_data.groupby('Outlet_Identifier')['Item_Type'].unique()"
   ]
  },
  {
   "cell_type": "markdown",
   "metadata": {},
   "source": [
    "#### Find out the average `Item_Outlet_Sales` for each category of `Outlet_Size`\n",
    "\n",
    "---"
   ]
  },
  {
   "cell_type": "code",
   "execution_count": 229,
   "metadata": {},
   "outputs": [
    {
     "data": {
      "text/plain": [
       "Outlet_Size\n",
       "High      2298.995256\n",
       "Medium    2681.603542\n",
       "Small     1912.149161\n",
       "Name: Item_Outlet_Sales, dtype: float64"
      ]
     },
     "execution_count": 229,
     "metadata": {},
     "output_type": "execute_result"
    }
   ],
   "source": [
    "big_mart_data.groupby('Outlet_Size')['Item_Outlet_Sales'].mean()"
   ]
  },
  {
   "cell_type": "markdown",
   "metadata": {},
   "source": [
    "#### Select only the categorical variables from the dataframe and use `get_dummies` function to convert those into the numerical ones. \n",
    "\n",
    "---"
   ]
  },
  {
   "cell_type": "code",
   "execution_count": 239,
   "metadata": {},
   "outputs": [
    {
     "name": "stdout",
     "output_type": "stream",
     "text": [
      "   Item_Identifier_DRA12  Item_Identifier_DRA24  Item_Identifier_DRA59  \\\n",
      "0                  False                  False                  False   \n",
      "1                  False                  False                  False   \n",
      "2                  False                  False                  False   \n",
      "3                  False                  False                  False   \n",
      "4                  False                  False                  False   \n",
      "\n",
      "   Item_Identifier_DRB01  Item_Identifier_DRB13  Item_Identifier_DRB24  \\\n",
      "0                  False                  False                  False   \n",
      "1                  False                  False                  False   \n",
      "2                  False                  False                  False   \n",
      "3                  False                  False                  False   \n",
      "4                  False                  False                  False   \n",
      "\n",
      "   Item_Identifier_DRB25  Item_Identifier_DRB48  Item_Identifier_DRC01  \\\n",
      "0                  False                  False                  False   \n",
      "1                  False                  False                   True   \n",
      "2                  False                  False                  False   \n",
      "3                  False                  False                  False   \n",
      "4                  False                  False                  False   \n",
      "\n",
      "   Item_Identifier_DRC12  ...  Outlet_Size_High  Outlet_Size_Medium  \\\n",
      "0                  False  ...             False                True   \n",
      "1                  False  ...             False                True   \n",
      "2                  False  ...             False                True   \n",
      "3                  False  ...             False               False   \n",
      "4                  False  ...              True               False   \n",
      "\n",
      "   Outlet_Size_Small  Outlet_Location_Type_Tier 1  \\\n",
      "0              False                         True   \n",
      "1              False                        False   \n",
      "2              False                         True   \n",
      "3              False                        False   \n",
      "4              False                        False   \n",
      "\n",
      "   Outlet_Location_Type_Tier 2  Outlet_Location_Type_Tier 3  \\\n",
      "0                        False                        False   \n",
      "1                        False                         True   \n",
      "2                        False                        False   \n",
      "3                        False                         True   \n",
      "4                        False                         True   \n",
      "\n",
      "   Outlet_Type_Grocery Store  Outlet_Type_Supermarket Type1  \\\n",
      "0                      False                           True   \n",
      "1                      False                          False   \n",
      "2                      False                           True   \n",
      "3                       True                          False   \n",
      "4                      False                           True   \n",
      "\n",
      "   Outlet_Type_Supermarket Type2  Outlet_Type_Supermarket Type3  \n",
      "0                          False                          False  \n",
      "1                           True                          False  \n",
      "2                          False                          False  \n",
      "3                          False                          False  \n",
      "4                          False                          False  \n",
      "\n",
      "[5 rows x 1600 columns]\n"
     ]
    }
   ],
   "source": [
    "data1=big_mart_data.select_dtypes(include='object')\n",
    "encd_data=pd.get_dummies(data1)\n",
    "print(encd_data.head())"
   ]
  },
  {
   "cell_type": "code",
   "execution_count": null,
   "metadata": {},
   "outputs": [],
   "source": []
  }
 ],
 "metadata": {
  "kernelspec": {
   "display_name": "Python 3 (ipykernel)",
   "language": "python",
   "name": "python3"
  },
  "language_info": {
   "codemirror_mode": {
    "name": "ipython",
    "version": 3
   },
   "file_extension": ".py",
   "mimetype": "text/x-python",
   "name": "python",
   "nbconvert_exporter": "python",
   "pygments_lexer": "ipython3",
   "version": "3.12.7"
  }
 },
 "nbformat": 4,
 "nbformat_minor": 4
}
